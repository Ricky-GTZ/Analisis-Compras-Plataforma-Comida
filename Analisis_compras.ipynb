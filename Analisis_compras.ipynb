{
 "cells": [
  {
   "cell_type": "markdown",
   "id": "3Xg_RQfnafXz",
   "metadata": {
    "id": "3Xg_RQfnafXz"
   },
   "source": [
    "# ¡Llena ese carrito!"
   ]
  },
  {
   "cell_type": "markdown",
   "id": "mhIvmmkW414q",
   "metadata": {
    "id": "mhIvmmkW414q"
   },
   "source": [
    "# Introducción\n",
    "\n",
    "Instacart es una plataforma de entregas de comestibles donde la clientela puede registrar un pedido y hacer que se lo entreguen, similar a Uber Eats y Door Dash.\n",
    "El conjunto de datos que te hemos proporcionado tiene modificaciones del original. Redujimos el tamaño del conjunto para que tus cálculos se hicieran más rápido e introdujimos valores ausentes y duplicados. Tuvimos cuidado de conservar las distribuciones de los datos originales cuando hicimos los cambios.\n",
    "\n",
    "Debes completar tres pasos. Para cada uno de ellos, escribe una breve introducción que refleje con claridad cómo pretendes resolver cada paso, y escribe párrafos explicatorios que justifiquen tus decisiones al tiempo que avanzas en tu solución.  También escribe una conclusión que resuma tus hallazgos y elecciones.\n"
   ]
  },
  {
   "cell_type": "markdown",
   "id": "3MbyzpOQZ5Or",
   "metadata": {
    "id": "3MbyzpOQZ5Or"
   },
   "source": [
    "## Diccionario de datos\n",
    "\n",
    "Hay cinco tablas en el conjunto de datos, y tendrás que usarlas todas para hacer el preprocesamiento de datos y el análisis exploratorio de datos. A continuación se muestra un diccionario de datos que enumera las columnas de cada tabla y describe los datos que contienen.\n",
    "\n",
    "- `instacart_orders.csv`: cada fila corresponde a un pedido en la aplicación Instacart.\n",
    "    - `'order_id'`: número de ID que identifica de manera única cada pedido.\n",
    "    - `'user_id'`: número de ID que identifica de manera única la cuenta de cada cliente.\n",
    "    - `'order_number'`: el número de veces que este cliente ha hecho un pedido.\n",
    "    - `'order_dow'`: día de la semana en que se hizo el pedido (0 si es domingo).\n",
    "    - `'order_hour_of_day'`: hora del día en que se hizo el pedido.\n",
    "    - `'days_since_prior_order'`: número de días transcurridos desde que este cliente hizo su pedido anterior.\n",
    "- `products.csv`: cada fila corresponde a un producto único que pueden comprar los clientes.\n",
    "    - `'product_id'`: número ID que identifica de manera única cada producto.\n",
    "    - `'product_name'`: nombre del producto.\n",
    "    - `'aisle_id'`: número ID que identifica de manera única cada categoría de pasillo de víveres.\n",
    "    - `'department_id'`: número ID que identifica de manera única cada departamento de víveres.\n",
    "- `order_products.csv`: cada fila corresponde a un artículo pedido en un pedido.\n",
    "    - `'order_id'`: número de ID que identifica de manera única cada pedido.\n",
    "    - `'product_id'`: número ID que identifica de manera única cada producto.\n",
    "    - `'add_to_cart_order'`: el orden secuencial en el que se añadió cada artículo en el carrito.\n",
    "    - `'reordered'`: 0 si el cliente nunca ha pedido este producto antes, 1 si lo ha pedido.\n",
    "- `aisles.csv`\n",
    "    - `'aisle_id'`: número ID que identifica de manera única cada categoría de pasillo de víveres.\n",
    "    - `'aisle'`: nombre del pasillo.\n",
    "- `departments.csv`\n",
    "    - `'department_id'`: número ID que identifica de manera única cada departamento de víveres.\n",
    "    - `'department'`: nombre del departamento."
   ]
  },
  {
   "cell_type": "markdown",
   "id": "n3Ha_cNSZ8lK",
   "metadata": {
    "id": "n3Ha_cNSZ8lK"
   },
   "source": [
    "# Paso 1. Descripción de los datos\n",
    "\n",
    "Lee los archivos de datos (`/datasets/instacart_orders.csv`, `/datasets/products.csv`, `/datasets/aisles.csv`, `/datasets/departments.csv` y `/datasets/order_products.csv`) con `pd.read_csv()` usando los parámetros adecuados para leer los datos correctamente. Verifica la información para cada DataFrame creado.\n"
   ]
  },
  {
   "cell_type": "markdown",
   "id": "OmlQPLlyaAfR",
   "metadata": {
    "id": "OmlQPLlyaAfR"
   },
   "source": [
    "## Plan de solución\n",
    "\n",
    "* Observar las tablas para identificar y corregir problemas como:\n",
    "    * Columnas con mayusculas y/o minusculas\n",
    "    * Espacios innecesarios\n",
    "    * Valores nulos en columnas"
   ]
  },
  {
   "cell_type": "code",
   "execution_count": 1,
   "id": "fbf1adab",
   "metadata": {
    "id": "fbf1adab"
   },
   "outputs": [
    {
     "ename": "ModuleNotFoundError",
     "evalue": "No module named 'matplotlib'",
     "output_type": "error",
     "traceback": [
      "\u001b[1;31m---------------------------------------------------------------------------\u001b[0m",
      "\u001b[1;31mModuleNotFoundError\u001b[0m                       Traceback (most recent call last)",
      "Cell \u001b[1;32mIn[1], line 4\u001b[0m\n\u001b[0;32m      2\u001b[0m \u001b[38;5;28;01mimport\u001b[39;00m \u001b[38;5;21;01mpandas\u001b[39;00m \u001b[38;5;28;01mas\u001b[39;00m \u001b[38;5;21;01mpd\u001b[39;00m\n\u001b[0;32m      3\u001b[0m \u001b[38;5;28;01mimport\u001b[39;00m \u001b[38;5;21;01mnumpy\u001b[39;00m \u001b[38;5;28;01mas\u001b[39;00m \u001b[38;5;21;01mnp\u001b[39;00m\n\u001b[1;32m----> 4\u001b[0m \u001b[38;5;28;01mfrom\u001b[39;00m \u001b[38;5;21;01mmatplotlib\u001b[39;00m \u001b[38;5;28;01mimport\u001b[39;00m pyplot \u001b[38;5;28;01mas\u001b[39;00m plt\n",
      "\u001b[1;31mModuleNotFoundError\u001b[0m: No module named 'matplotlib'"
     ]
    }
   ],
   "source": [
    "# importar librerías\n",
    "import pandas as pd\n",
    "import numpy as np\n",
    "from matplotlib import pyplot as plt"
   ]
  },
  {
   "cell_type": "code",
   "execution_count": null,
   "id": "ad36396d",
   "metadata": {
    "id": "ad36396d"
   },
   "outputs": [],
   "source": [
    "# leer conjuntos de datos en los DataFrames\n",
    "df_aisles = pd.read_csv('aisles.csv', delimiter=';')\n",
    "df_departments = pd.read_csv('departments.csv', delimiter=';')\n",
    "df_op = pd.read_csv('order_products.csv', delimiter=';')\n",
    "df_io = pd.read_csv('instacart_orders.csv', delimiter=';')\n",
    "df_products = pd.read_csv('products.csv', delimiter=';')\n",
    "\n",
    "\n"
   ]
  },
  {
   "cell_type": "code",
   "execution_count": null,
   "id": "ad6a1efa",
   "metadata": {
    "id": "ad6a1efa"
   },
   "outputs": [
    {
     "name": "stdout",
     "output_type": "stream",
     "text": [
      "   aisle_id                       aisle\n",
      "0         1       prepared soups salads\n",
      "1         2           specialty cheeses\n",
      "2         3         energy granola bars\n",
      "3         4               instant foods\n",
      "4         5  marinades meat preparation\n"
     ]
    }
   ],
   "source": [
    "# mostrar información del DataFrame\n",
    "print(df_aisles.head())"
   ]
  },
  {
   "cell_type": "code",
   "execution_count": null,
   "id": "5130e05e",
   "metadata": {
    "id": "5130e05e"
   },
   "outputs": [
    {
     "name": "stdout",
     "output_type": "stream",
     "text": [
      "   department_id department\n",
      "0              1     frozen\n",
      "1              2      other\n",
      "2              3     bakery\n",
      "3              4    produce\n",
      "4              5    alcohol\n"
     ]
    }
   ],
   "source": [
    "# mostrar información del DataFrame\n",
    "print(df_departments.head())"
   ]
  },
  {
   "cell_type": "code",
   "execution_count": null,
   "id": "d8370c05",
   "metadata": {
    "id": "d8370c05"
   },
   "outputs": [
    {
     "name": "stdout",
     "output_type": "stream",
     "text": [
      "   order_id  user_id  order_number  order_dow  order_hour_of_day  \\\n",
      "0   1515936   183418            11          6                 13   \n",
      "1   1690866   163593             5          5                 12   \n",
      "2   1454967    39980             4          5                 19   \n",
      "3   1768857    82516            56          0                 20   \n",
      "4   3007858   196724             2          4                 12   \n",
      "\n",
      "   days_since_prior_order  \n",
      "0                    30.0  \n",
      "1                     9.0  \n",
      "2                     2.0  \n",
      "3                    10.0  \n",
      "4                    17.0  \n"
     ]
    }
   ],
   "source": [
    "# mostrar información del DataFrame\n",
    "print(df_io.head())"
   ]
  },
  {
   "cell_type": "code",
   "execution_count": null,
   "id": "59e2090f",
   "metadata": {
    "id": "59e2090f"
   },
   "outputs": [
    {
     "name": "stdout",
     "output_type": "stream",
     "text": [
      "   order_id  product_id  add_to_cart_order  reordered\n",
      "0   2141543       11440               17.0          0\n",
      "1    567889        1560                1.0          1\n",
      "2   2261212       26683                1.0          1\n",
      "3    491251        8670               35.0          1\n",
      "4   2571142        1940                5.0          1\n"
     ]
    }
   ],
   "source": [
    "# mostrar información del DataFrame\n",
    "print(df_op.head())"
   ]
  },
  {
   "cell_type": "code",
   "execution_count": null,
   "id": "6fc81694",
   "metadata": {
    "id": "6fc81694"
   },
   "outputs": [
    {
     "name": "stdout",
     "output_type": "stream",
     "text": [
      "   product_id                                       product_name  aisle_id  \\\n",
      "0           1                         Chocolate Sandwich Cookies        61   \n",
      "1           2                                   All-Seasons Salt       104   \n",
      "2           3               Robust Golden Unsweetened Oolong Tea        94   \n",
      "3           4  Smart Ones Classic Favorites Mini Rigatoni Wit...        38   \n",
      "4           5                          Green Chile Anytime Sauce         5   \n",
      "\n",
      "   department_id  \n",
      "0             19  \n",
      "1             13  \n",
      "2              7  \n",
      "3              1  \n",
      "4             13  \n"
     ]
    }
   ],
   "source": [
    "# mostrar información del DataFrame\n",
    "print(df_products.head())"
   ]
  },
  {
   "cell_type": "markdown",
   "id": "t75BD19oaR5f",
   "metadata": {
    "id": "t75BD19oaR5f"
   },
   "source": [
    "## Observaciones\n",
    "\n",
    "* df_aisles = contiene los nombres de los pasillos (variable de texto) asociado a un id (variable entera)\n",
    "* df_departments = contiene los nombres de los departamentos (variable de texto) asociado a un id (variable entera)\n",
    "* df_io = contiene el id de la orden (string), id de producto (int), cantidad añadida al carrito (float) y los re ordenados (int)\n",
    "* df_op = order id (string), user id (string), numero de orden (int), order dow (int), oder hour day (int), days sine prior order \n",
    "(float)\n",
    "* df_products =  product_id (int), product_name (string), aisle_id (int), department_id (int)\n",
    "* En lo que parece a simple vista que son los campos, habria de analizar con un describe() o info() para asegurarnos que los id sean string"
   ]
  },
  {
   "cell_type": "markdown",
   "id": "8RJHqxVmaVsF",
   "metadata": {
    "id": "8RJHqxVmaVsF"
   },
   "source": [
    "## Preprocesamiento de los datos\n",
    "\n",
    "* Verificar y corregir los tipos de datos (columnas de ID a números enteros).\n",
    "* Identificar y completar los valores ausentes.\n",
    "* Identificar y eliminar los valores duplicados.\n"
   ]
  },
  {
   "cell_type": "markdown",
   "id": "f179f0a9",
   "metadata": {
    "id": "f179f0a9"
   },
   "source": [
    "### `instacart_orders` data frame"
   ]
  },
  {
   "cell_type": "code",
   "execution_count": null,
   "id": "b99297a5-405a-463d-8535-9adc3da4ad74",
   "metadata": {
    "id": "b99297a5-405a-463d-8535-9adc3da4ad74"
   },
   "outputs": [
    {
     "name": "stdout",
     "output_type": "stream",
     "text": [
      "        order_id  user_id  order_number  order_dow  order_hour_of_day  \\\n",
      "145574    794638    50898            24          3                  2   \n",
      "223105   2160484   107525            16          3                  2   \n",
      "230807   1918001   188546            14          3                  2   \n",
      "266232   1782114   106752             1          3                  2   \n",
      "273805   1112182   202304            84          3                  2   \n",
      "284038   2845099    31189            11          3                  2   \n",
      "311713   1021560    53767             3          3                  2   \n",
      "321100    408114    68324             4          3                  2   \n",
      "323900   1919531   191501            32          3                  2   \n",
      "345917   2232988    82565             1          3                  2   \n",
      "371905    391768    57671            19          3                  2   \n",
      "394347    467134    63189            21          3                  2   \n",
      "411408   1286742   183220            48          3                  2   \n",
      "415163   2282673    86751            49          3                  2   \n",
      "441599   2125197    14050            48          3                  2   \n",
      "\n",
      "        days_since_prior_order  \n",
      "145574                     2.0  \n",
      "223105                    30.0  \n",
      "230807                    16.0  \n",
      "266232                     NaN  \n",
      "273805                     6.0  \n",
      "284038                     7.0  \n",
      "311713                     9.0  \n",
      "321100                    18.0  \n",
      "323900                     7.0  \n",
      "345917                     NaN  \n",
      "371905                    10.0  \n",
      "394347                     2.0  \n",
      "411408                     4.0  \n",
      "415163                     2.0  \n",
      "441599                     3.0  \n",
      "15\n"
     ]
    }
   ],
   "source": [
    "# Revisar si hay pedidos duplicados\n",
    "\n",
    "duplicates = df_io.duplicated()\n",
    "\n",
    "print(df_io[duplicates])\n",
    "\n",
    "print(df_io.duplicated().sum())"
   ]
  },
  {
   "cell_type": "markdown",
   "id": "PEkwUX_gvt5A",
   "metadata": {
    "id": "PEkwUX_gvt5A"
   },
   "source": [
    "\n",
    " Hay 15 valores duplicados coinciden en order_dow == 3  y order_hour_of_day == 2"
   ]
  },
  {
   "cell_type": "code",
   "execution_count": null,
   "id": "0d44de5d",
   "metadata": {
    "id": "0d44de5d"
   },
   "outputs": [
    {
     "name": "stdout",
     "output_type": "stream",
     "text": [
      "        order_id  user_id  order_number  order_dow  order_hour_of_day  \\\n",
      "4838     2766110   162084            41          3                  2   \n",
      "5156     2190225   138285            18          3                  2   \n",
      "15506     553049    58599            13          3                  2   \n",
      "18420     382357   120200            19          3                  2   \n",
      "24691     690242    77357             2          3                  2   \n",
      "...          ...      ...           ...        ...                ...   \n",
      "457013   3384021    14881             6          3                  2   \n",
      "458816    910166   164782            18          3                  2   \n",
      "459635   1680532   106435             6          3                  2   \n",
      "468324    222962    54979            59          3                  2   \n",
      "477526   2592344    46860            38          3                  2   \n",
      "\n",
      "        days_since_prior_order  \n",
      "4838                      16.0  \n",
      "5156                      11.0  \n",
      "15506                      7.0  \n",
      "18420                     11.0  \n",
      "24691                      9.0  \n",
      "...                        ...  \n",
      "457013                    30.0  \n",
      "458816                     4.0  \n",
      "459635                    21.0  \n",
      "468324                     3.0  \n",
      "477526                     3.0  \n",
      "\n",
      "[121 rows x 6 columns]\n",
      "121\n"
     ]
    }
   ],
   "source": [
    "# Verificar todos los pedidos que se hicieron el miércoles a las 2:00 a.m.\n",
    "\n",
    "wednesday_orders = df_io[(df_io['order_dow'] == 3) & (df_io['order_hour_of_day'] == 2)]\n",
    "\n",
    "# Mostrar los resultados\n",
    "print(wednesday_orders)\n",
    "print(wednesday_orders.shape[0])\n",
    "\n"
   ]
  },
  {
   "cell_type": "markdown",
   "id": "vu2OWyoqwOx5",
   "metadata": {
    "id": "vu2OWyoqwOx5"
   },
   "source": [
    "Hubo 121 pedidos que se hicieron el miércoles a las 2:00 a.m."
   ]
  },
  {
   "cell_type": "code",
   "execution_count": null,
   "id": "480563c7",
   "metadata": {
    "id": "480563c7"
   },
   "outputs": [],
   "source": [
    "# Eliminar los pedidos duplicados\n",
    "df_io.drop_duplicates(inplace=True)\n"
   ]
  },
  {
   "cell_type": "code",
   "execution_count": null,
   "id": "0b2396a2",
   "metadata": {
    "id": "0b2396a2"
   },
   "outputs": [
    {
     "name": "stdout",
     "output_type": "stream",
     "text": [
      "Empty DataFrame\n",
      "Columns: [order_id, user_id, order_number, order_dow, order_hour_of_day, days_since_prior_order]\n",
      "Index: []\n",
      "0\n"
     ]
    }
   ],
   "source": [
    "# Verificar si hay filas duplicadas\n",
    "duplicates = df_io.duplicated()\n",
    "\n",
    "print(df_io[duplicates])\n",
    "\n",
    "print(df_io.duplicated().sum())\n"
   ]
  },
  {
   "cell_type": "code",
   "execution_count": null,
   "id": "f6113ef1",
   "metadata": {
    "id": "f6113ef1"
   },
   "outputs": [
    {
     "name": "stdout",
     "output_type": "stream",
     "text": [
      "Empty DataFrame\n",
      "Columns: [order_id, user_id, order_number, order_dow, order_hour_of_day, days_since_prior_order]\n",
      "Index: []\n",
      "0\n"
     ]
    }
   ],
   "source": [
    "# Verificar si hay IDs duplicados de pedidos\n",
    " \n",
    "order_id_duplicates = df_io['order_id'].duplicated()\n",
    "    \n",
    "print(df_io[order_id_duplicates])\n",
    "print(order_id_duplicates.sum())"
   ]
  },
  {
   "cell_type": "markdown",
   "id": "45e6bc46",
   "metadata": {
    "id": "45e6bc46"
   },
   "source": [
    "### `products` data frame"
   ]
  },
  {
   "cell_type": "code",
   "execution_count": null,
   "id": "5f526b5b-8175-46fa-a0fd-441767d50e64",
   "metadata": {
    "id": "5f526b5b-8175-46fa-a0fd-441767d50e64"
   },
   "outputs": [
    {
     "name": "stdout",
     "output_type": "stream",
     "text": [
      "Empty DataFrame\n",
      "Columns: [product_id, product_name, aisle_id, department_id]\n",
      "Index: []\n",
      "0\n"
     ]
    }
   ],
   "source": [
    "# Verificar si hay filas totalmente duplicadas\n",
    "\n",
    "duplicates = df_products.duplicated()\n",
    "\n",
    "print(df_products[duplicates])\n",
    "\n",
    "print(duplicates.sum())"
   ]
  },
  {
   "cell_type": "code",
   "execution_count": null,
   "id": "88daa4f4",
   "metadata": {
    "id": "88daa4f4"
   },
   "outputs": [
    {
     "name": "stdout",
     "output_type": "stream",
     "text": [
      "Empty DataFrame\n",
      "Columns: [product_id, product_name, aisle_id, department_id]\n",
      "Index: []\n",
      "0\n"
     ]
    }
   ],
   "source": [
    "# Verificar si hay IDs duplicadas de productos\n",
    "duplicates = df_products['product_id'].duplicated()\n",
    "\n",
    "print(df_products[duplicates])\n",
    "\n",
    "print(duplicates.sum())"
   ]
  },
  {
   "cell_type": "code",
   "execution_count": null,
   "id": "c773f0bf",
   "metadata": {
    "id": "c773f0bf"
   },
   "outputs": [
    {
     "name": "stdout",
     "output_type": "stream",
     "text": [
      "       product_id                                     product_name  aisle_id  \\\n",
      "71             72                                              NaN       100   \n",
      "109           110                                              NaN       100   \n",
      "296           297                                              NaN       100   \n",
      "416           417                                              NaN       100   \n",
      "436           437                                              NaN       100   \n",
      "...           ...                                              ...       ...   \n",
      "49689       49690                    HIGH PERFORMANCE ENERGY DRINK        64   \n",
      "49690       49691                    ORIGINAL PANCAKE & WAFFLE MIX       130   \n",
      "49691       49692  ORGANIC INSTANT OATMEAL LIGHT MAPLE BROWN SUGAR       130   \n",
      "49692       49693                           SPRING WATER BODY WASH       127   \n",
      "49693       49694                          BURRITO- STEAK & CHEESE        38   \n",
      "\n",
      "       department_id  \n",
      "71                21  \n",
      "109               21  \n",
      "296               21  \n",
      "416               21  \n",
      "436               21  \n",
      "...              ...  \n",
      "49689              7  \n",
      "49690             14  \n",
      "49691             14  \n",
      "49692             11  \n",
      "49693              1  \n",
      "\n",
      "[1361 rows x 4 columns]\n",
      "1361\n"
     ]
    }
   ],
   "source": [
    "# Revisar si hay nombres duplicados de productos. \n",
    "\n",
    "df_products['product_name'] = df_products['product_name'].str.upper() ## Convertir todo a mayusculas\n",
    "\n",
    "duplicates = df_products['product_name'].duplicated()\n",
    "print(df_products[duplicates])\n",
    "\n",
    "print(duplicates.sum())\n",
    "\n"
   ]
  },
  {
   "cell_type": "code",
   "execution_count": null,
   "id": "01efd02e",
   "metadata": {
    "id": "01efd02e"
   },
   "outputs": [
    {
     "name": "stdout",
     "output_type": "stream",
     "text": [
      "104\n"
     ]
    }
   ],
   "source": [
    "# Revisar si hay nombres duplicados de productos no faltantes\n",
    "\n",
    "noNAN_products = df_products['product_name'].dropna()\n",
    "\n",
    "duplicates = noNAN_products.duplicated()\n",
    "\n",
    "print( duplicates.sum())\n"
   ]
  },
  {
   "cell_type": "markdown",
   "id": "9da8d293",
   "metadata": {
    "id": "9da8d293"
   },
   "source": [
    "* En las primeras columnas unicamente verifique los datos duplicados, de los cuaes no hubo duplicados\n",
    "\n",
    "* Para la columna de product_name, converti los str a mayusculas con upper, obtuve que el total de duplicados fue de 1361, pero al descartar los valores vacios NAN solo obtuve 104 valores duplicados"
   ]
  },
  {
   "cell_type": "markdown",
   "id": "60f30db1",
   "metadata": {
    "id": "60f30db1"
   },
   "source": [
    "### `departments` data frame"
   ]
  },
  {
   "cell_type": "code",
   "execution_count": null,
   "id": "fb410ad4-0fbf-4b80-bb09-23fdea79afe3",
   "metadata": {
    "id": "fb410ad4-0fbf-4b80-bb09-23fdea79afe3"
   },
   "outputs": [
    {
     "name": "stdout",
     "output_type": "stream",
     "text": [
      "Empty DataFrame\n",
      "Columns: [department_id, department]\n",
      "Index: []\n",
      "0\n"
     ]
    }
   ],
   "source": [
    "# Revisar si hay filas totalmente duplicadas\n",
    "duplicates = df_departments.duplicated()\n",
    "\n",
    "print(df_departments[duplicates])\n",
    "print(duplicates.sum())"
   ]
  },
  {
   "cell_type": "code",
   "execution_count": null,
   "id": "332b12bb",
   "metadata": {
    "id": "332b12bb"
   },
   "outputs": [
    {
     "name": "stdout",
     "output_type": "stream",
     "text": [
      "Empty DataFrame\n",
      "Columns: [department_id, department]\n",
      "Index: []\n",
      "0\n"
     ]
    }
   ],
   "source": [
    "# Revisar si hay IDs duplicadas de productos\n",
    "\n",
    "duplicates = df_departments['department_id'].duplicated()\n",
    "\n",
    "print(df_departments[duplicates])\n",
    "print(duplicates.sum())"
   ]
  },
  {
   "cell_type": "markdown",
   "id": "bd30d78e",
   "metadata": {
    "id": "bd30d78e"
   },
   "source": [
    "* No encontre valores totalmente duplicados en el dataframe, tampoco en la columna department_id"
   ]
  },
  {
   "cell_type": "markdown",
   "id": "889349c1",
   "metadata": {
    "id": "889349c1"
   },
   "source": [
    "### `aisles` data frame"
   ]
  },
  {
   "cell_type": "code",
   "execution_count": null,
   "id": "9da89fb9-4679-40f5-ad0d-c34df753a3f8",
   "metadata": {
    "id": "9da89fb9-4679-40f5-ad0d-c34df753a3f8"
   },
   "outputs": [
    {
     "name": "stdout",
     "output_type": "stream",
     "text": [
      "Empty DataFrame\n",
      "Columns: [aisle_id, aisle]\n",
      "Index: []\n",
      "0\n"
     ]
    }
   ],
   "source": [
    "# Revisar si hay filas totalmente duplicadas\n",
    "duplicates = df_aisles.duplicated()\n",
    "\n",
    "print(df_aisles[duplicates])\n",
    "print(duplicates.sum())"
   ]
  },
  {
   "cell_type": "code",
   "execution_count": null,
   "id": "da7c2822",
   "metadata": {
    "id": "da7c2822"
   },
   "outputs": [
    {
     "name": "stdout",
     "output_type": "stream",
     "text": [
      "Empty DataFrame\n",
      "Columns: [aisle_id, aisle]\n",
      "Index: []\n",
      "0\n"
     ]
    }
   ],
   "source": [
    "# Revisar si hay IDs duplicadas de productos\n",
    "duplicates = df_aisles['aisle_id'].duplicated()\n",
    "\n",
    "print(df_aisles[duplicates])\n",
    "print(duplicates.sum())"
   ]
  },
  {
   "cell_type": "markdown",
   "id": "ac63826f",
   "metadata": {
    "id": "ac63826f"
   },
   "source": [
    "* No hay duplicados en el dataset "
   ]
  },
  {
   "cell_type": "markdown",
   "id": "274cd06a",
   "metadata": {
    "id": "274cd06a"
   },
   "source": [
    "### `order_products` data frame"
   ]
  },
  {
   "cell_type": "code",
   "execution_count": null,
   "id": "52326689-84a8-4b8f-a881-7c68780f62c9",
   "metadata": {
    "id": "52326689-84a8-4b8f-a881-7c68780f62c9"
   },
   "outputs": [
    {
     "name": "stdout",
     "output_type": "stream",
     "text": [
      "Empty DataFrame\n",
      "Columns: [order_id, product_id, add_to_cart_order, reordered]\n",
      "Index: []\n",
      "0\n"
     ]
    }
   ],
   "source": [
    "# Revisar si hay filas totalmente duplicadas\n",
    "\n",
    "duplicates = df_op.duplicated()\n",
    "\n",
    "print(df_op[duplicates])\n",
    "print(duplicates.sum())\n"
   ]
  },
  {
   "cell_type": "code",
   "execution_count": null,
   "id": "7b861391",
   "metadata": {
    "id": "7b861391"
   },
   "outputs": [
    {
     "name": "stdout",
     "output_type": "stream",
     "text": [
      "Empty DataFrame\n",
      "Columns: [order_id, product_id, add_to_cart_order, reordered]\n",
      "Index: []\n",
      "0\n"
     ]
    }
   ],
   "source": [
    "# Verificar si hay cualquier otro duplicado engañoso\n",
    "\n",
    "duplicates = df_op.duplicated()\n",
    "\n",
    "print(df_op[duplicates])\n",
    "print(duplicates.sum())\n"
   ]
  },
  {
   "cell_type": "markdown",
   "id": "1e46de76",
   "metadata": {
    "id": "1e46de76"
   },
   "source": [
    "## Encoentrar y eliminar los valores ausentes\n",
    "\n",
    "Al trabajar con valores duplicados, pudimos observar que también nos falta investigar valores ausentes:\n",
    "\n",
    "* La columna `'product_name'` de la tabla products.\n",
    "* La columna `'days_since_prior_order'` de la tabla orders.\n",
    "* La columna `'add_to_cart_order'` de la tabla order_productos."
   ]
  },
  {
   "cell_type": "markdown",
   "id": "c0aebd78",
   "metadata": {
    "id": "c0aebd78"
   },
   "source": [
    "### `products` data frame"
   ]
  },
  {
   "cell_type": "code",
   "execution_count": null,
   "id": "fe4a8b0f",
   "metadata": {
    "id": "fe4a8b0f"
   },
   "outputs": [
    {
     "name": "stdout",
     "output_type": "stream",
     "text": [
      "0        False\n",
      "1        False\n",
      "2        False\n",
      "3        False\n",
      "4        False\n",
      "         ...  \n",
      "49689    False\n",
      "49690    False\n",
      "49691    False\n",
      "49692    False\n",
      "49693    False\n",
      "Name: product_name, Length: 49694, dtype: bool\n",
      "1258\n"
     ]
    }
   ],
   "source": [
    "# Encontrar los valores ausentes en la columna 'product_name'\n",
    "\n",
    "NAN = df_products['product_name'].isna()\n",
    "\n",
    "print(NAN)\n",
    "print(NAN.sum())\n"
   ]
  },
  {
   "cell_type": "markdown",
   "id": "-A6x1AbJhjkp",
   "metadata": {
    "id": "-A6x1AbJhjkp"
   },
   "source": [
    "* Existen 1258 valores ausentes"
   ]
  },
  {
   "cell_type": "code",
   "execution_count": null,
   "id": "e96167bc",
   "metadata": {
    "id": "e96167bc"
   },
   "outputs": [
    {
     "name": "stdout",
     "output_type": "stream",
     "text": [
      "       product_id product_name  aisle_id  department_id\n",
      "37             38          NaN       100             21\n",
      "71             72          NaN       100             21\n",
      "109           110          NaN       100             21\n",
      "296           297          NaN       100             21\n",
      "416           417          NaN       100             21\n",
      "...           ...          ...       ...            ...\n",
      "49552       49553          NaN       100             21\n",
      "49574       49575          NaN       100             21\n",
      "49640       49641          NaN       100             21\n",
      "49663       49664          NaN       100             21\n",
      "49668       49669          NaN       100             21\n",
      "\n",
      "[1258 rows x 4 columns]\n",
      "1258\n"
     ]
    }
   ],
   "source": [
    "# Verificar si todos los nombres de productos ausentes están relacionados con el pasillo con ID 100\n",
    "\n",
    "NAN = df_products[df_products['product_name'].isna()]\n",
    "\n",
    "NAN_id100 = NAN['aisle_id'] == 100\n",
    "\n",
    "print(NAN)\n",
    "print(NAN_id100.sum())"
   ]
  },
  {
   "cell_type": "markdown",
   "id": "WRpIfXRphpSL",
   "metadata": {
    "id": "WRpIfXRphpSL"
   },
   "source": [
    "* Asi es, Todos los nombres de productos ausentes están relacionados con el pasillo con ID 100"
   ]
  },
  {
   "cell_type": "code",
   "execution_count": null,
   "id": "8fd0a541",
   "metadata": {
    "id": "8fd0a541"
   },
   "outputs": [
    {
     "name": "stdout",
     "output_type": "stream",
     "text": [
      "       product_id product_name  aisle_id  department_id\n",
      "37             38          NaN       100             21\n",
      "71             72          NaN       100             21\n",
      "109           110          NaN       100             21\n",
      "296           297          NaN       100             21\n",
      "416           417          NaN       100             21\n",
      "...           ...          ...       ...            ...\n",
      "49552       49553          NaN       100             21\n",
      "49574       49575          NaN       100             21\n",
      "49640       49641          NaN       100             21\n",
      "49663       49664          NaN       100             21\n",
      "49668       49669          NaN       100             21\n",
      "\n",
      "[1258 rows x 4 columns]\n",
      "1258\n"
     ]
    }
   ],
   "source": [
    "# Verificar si todos los nombres de productos ausentes están relacionados con el departamento con ID 21\n",
    "NAN = df_products[df_products['product_name'].isna()]\n",
    "\n",
    "NAN_id100 = NAN['department_id'] == 21\n",
    "\n",
    "print(NAN)\n",
    "print(NAN_id100.sum())"
   ]
  },
  {
   "cell_type": "markdown",
   "id": "qDpdYn1Fht_I",
   "metadata": {
    "id": "qDpdYn1Fht_I"
   },
   "source": [
    "* Si, todos los nombres de productos ausentes estan relacionados con el departamento con ID 21"
   ]
  },
  {
   "cell_type": "code",
   "execution_count": null,
   "id": "325c3464",
   "metadata": {
    "id": "325c3464"
   },
   "outputs": [
    {
     "name": "stdout",
     "output_type": "stream",
     "text": [
      "    department_id department\n",
      "20             21    missing\n",
      "    aisle_id    aisle\n",
      "99       100  missing\n"
     ]
    }
   ],
   "source": [
    "# Usar las tablas department y aisle para revisar los datos del pasillo con ID 100 y el departamento con ID 21.\n",
    "\n",
    "dept_21 = df_departments[df_departments['department_id'] == 21]\n",
    "\n",
    "aisle_100 = df_aisles[df_aisles['aisle_id'] == 100]\n",
    "\n",
    "print(dept_21)\n",
    "\n",
    "print(aisle_100)\n"
   ]
  },
  {
   "cell_type": "markdown",
   "id": "nqhSTUPhhvEJ",
   "metadata": {
    "id": "nqhSTUPhhvEJ"
   },
   "source": [
    "* Al revisar ambas tablas, se puede observar que hay valores ausentes en ambos casos"
   ]
  },
  {
   "cell_type": "code",
   "execution_count": null,
   "id": "6b295120",
   "metadata": {
    "id": "6b295120"
   },
   "outputs": [
    {
     "name": "stdout",
     "output_type": "stream",
     "text": [
      "Empty DataFrame\n",
      "Columns: [product_id, product_name, aisle_id, department_id]\n",
      "Index: []\n",
      "0\n"
     ]
    }
   ],
   "source": [
    "# Completar los nombres de productos ausentes con 'Unknown'\n",
    "\n",
    "df_products['product_name'].fillna('Unknown', inplace=True)\n",
    "\n",
    "NAN = df_products['product_name'].isna()\n",
    "\n",
    "print(df_products[NAN])\n",
    "print(NAN.sum())\n",
    "\n"
   ]
  },
  {
   "cell_type": "markdown",
   "id": "fc70e5ad",
   "metadata": {
    "id": "fc70e5ad"
   },
   "source": [
    "* Intercambie todos los valores ausentes de produc_name por el string Unknow y verifique que los valores ausentes fueran igual a 0"
   ]
  },
  {
   "cell_type": "markdown",
   "id": "7eb45c86",
   "metadata": {
    "id": "7eb45c86"
   },
   "source": [
    "### `orders` data frame"
   ]
  },
  {
   "cell_type": "code",
   "execution_count": null,
   "id": "93e41d96",
   "metadata": {
    "id": "93e41d96"
   },
   "outputs": [
    {
     "name": "stdout",
     "output_type": "stream",
     "text": [
      "        order_id  user_id  order_number  order_dow  order_hour_of_day  \\\n",
      "0          False    False         False      False              False   \n",
      "1          False    False         False      False              False   \n",
      "2          False    False         False      False              False   \n",
      "3          False    False         False      False              False   \n",
      "4          False    False         False      False              False   \n",
      "...          ...      ...           ...        ...                ...   \n",
      "478962     False    False         False      False              False   \n",
      "478963     False    False         False      False              False   \n",
      "478964     False    False         False      False              False   \n",
      "478965     False    False         False      False              False   \n",
      "478966     False    False         False      False              False   \n",
      "\n",
      "        days_since_prior_order  \n",
      "0                        False  \n",
      "1                        False  \n",
      "2                        False  \n",
      "3                        False  \n",
      "4                        False  \n",
      "...                        ...  \n",
      "478962                   False  \n",
      "478963                   False  \n",
      "478964                   False  \n",
      "478965                   False  \n",
      "478966                   False  \n",
      "\n",
      "[478952 rows x 6 columns]\n",
      "order_id                      0\n",
      "user_id                       0\n",
      "order_number                  0\n",
      "order_dow                     0\n",
      "order_hour_of_day             0\n",
      "days_since_prior_order    28817\n",
      "dtype: int64\n"
     ]
    }
   ],
   "source": [
    "# Encontrar los valores ausentes\n",
    "NAN = df_io.isna()\n",
    "\n",
    "print(NAN)\n",
    "print(NAN.sum())"
   ]
  },
  {
   "cell_type": "code",
   "execution_count": null,
   "id": "166e5a86",
   "metadata": {
    "id": "166e5a86"
   },
   "outputs": [
    {
     "name": "stdout",
     "output_type": "stream",
     "text": [
      "order_id                  0\n",
      "user_id                   0\n",
      "order_number              0\n",
      "order_dow                 0\n",
      "order_hour_of_day         0\n",
      "days_since_prior_order    0\n",
      "dtype: int64\n"
     ]
    }
   ],
   "source": [
    "# Verificar si hay algún valor ausente que no sea el primer pedido del cliente?\n",
    "\n",
    "no_pedido1 = df_io[df_io['order_number'] > 1]\n",
    "\n",
    "print(no_pedido1.isna().sum())"
   ]
  },
  {
   "cell_type": "markdown",
   "id": "4e23d089",
   "metadata": {
    "id": "4e23d089"
   },
   "source": [
    "* Existen  28817 valores ausentes en la columna days_since_prior_order, pero al filtrar que no sea el primer pedido del cliente no se encontraron valores ausentes"
   ]
  },
  {
   "cell_type": "markdown",
   "id": "69dc9ca4",
   "metadata": {
    "id": "69dc9ca4"
   },
   "source": [
    "### `order_products` data frame"
   ]
  },
  {
   "cell_type": "code",
   "execution_count": null,
   "id": "b8240253",
   "metadata": {
    "id": "b8240253"
   },
   "outputs": [
    {
     "name": "stdout",
     "output_type": "stream",
     "text": [
      "order_id               0\n",
      "product_id             0\n",
      "add_to_cart_order    836\n",
      "reordered              0\n",
      "dtype: int64\n"
     ]
    }
   ],
   "source": [
    "# Encontrar los valores ausentes\n",
    "NAN = df_op.isna()\n",
    "\n",
    "print(NAN.sum())"
   ]
  },
  {
   "cell_type": "code",
   "execution_count": null,
   "id": "9a78e5ee",
   "metadata": {
    "id": "9a78e5ee"
   },
   "outputs": [
    {
     "name": "stdout",
     "output_type": "stream",
     "text": [
      "1.0\n",
      "64.0\n"
     ]
    }
   ],
   "source": [
    "# Encontrar valores mínimos y máximos en esta columna\n",
    "\n",
    "print(df_op['add_to_cart_order'].min())\n",
    "print(df_op['add_to_cart_order'].max())\n"
   ]
  },
  {
   "cell_type": "markdown",
   "id": "-Z2Ja215jW78",
   "metadata": {
    "id": "-Z2Ja215jW78"
   },
   "source": [
    "* Hay 836 valores ausentes en la columna add_to cart_order, y sus valores min y max son 1 y 6 respectivamente"
   ]
  },
  {
   "cell_type": "code",
   "execution_count": null,
   "id": "ab9d0c2b",
   "metadata": {
    "id": "ab9d0c2b"
   },
   "outputs": [
    {
     "name": "stdout",
     "output_type": "stream",
     "text": [
      "737        2449164\n",
      "9926       1968313\n",
      "14394      2926893\n",
      "16418      1717990\n",
      "30114      1959075\n",
      "            ...   \n",
      "4505662    1800005\n",
      "4511400    1633337\n",
      "4517562     404157\n",
      "4534112    1673227\n",
      "4535739    1832957\n",
      "Name: order_id, Length: 836, dtype: int64\n",
      "836\n"
     ]
    }
   ],
   "source": [
    "# Guardar todas las IDs de pedidos que tengan un valor ausente en 'add_to_cart_order'\n",
    "\n",
    "ids = df_op[df_op['add_to_cart_order'].isna()]\n",
    "\n",
    "print(ids['order_id'])\n",
    "print(ids['order_id'].count())\n"
   ]
  },
  {
   "cell_type": "code",
   "execution_count": null,
   "id": "54c31695",
   "metadata": {
    "id": "54c31695"
   },
   "outputs": [
    {
     "name": "stdout",
     "output_type": "stream",
     "text": [
      "Número de productos en cada pedido con valores ausentes:\n",
      "order_id\n",
      "9310        1\n",
      "61355      63\n",
      "102236     31\n",
      "129627      5\n",
      "165801      6\n",
      "           ..\n",
      "2999801     6\n",
      "3125735    22\n",
      "3308010    51\n",
      "3347453     7\n",
      "3383594     5\n",
      "Length: 70, dtype: int64\n",
      "Valor mínimo del conteo de productos en pedidos con valores ausentes:\n",
      "1\n",
      "No todos los pedidos con valores ausentes tienen más de 64 productos.\n"
     ]
    }
   ],
   "source": [
    "# ¿Todos los pedidos con valores ausentes tienen más de 64 productos?\n",
    "# Agrupar todos los pedidos con datos ausentes por su ID de pedido.\n",
    "# Contar el número de 'product_id' en cada pedido y revisa el valor mínimo del conteo.\n",
    "\n",
    "missed = df_op[df_op['add_to_cart_order'].isna()]\n",
    "\n",
    "orders = missed.groupby('order_id').size()\n",
    "\n",
    "min_count = orders.min()\n",
    "\n",
    "all_64 = (orders > 64).all()\n",
    "\n",
    "\n",
    "\n",
    "print(\"Número de productos en cada pedido con valores ausentes:\")\n",
    "print(orders)\n",
    "\n",
    "print(\"Valor mínimo del conteo de productos en pedidos con valores ausentes:\")\n",
    "print(min_count)\n",
    "\n",
    "if all_64:\n",
    "    print(\"Todos los pedidos con valores ausentes tienen más de 64 productos.\")\n",
    "else:\n",
    "    print(\"No todos los pedidos con valores ausentes tienen más de 64 productos.\")\n",
    "\n"
   ]
  },
  {
   "cell_type": "markdown",
   "id": "p9V6pddtjglj",
   "metadata": {
    "id": "p9V6pddtjglj"
   },
   "source": [
    "* Despues de agrupar por order_id obtuve que el valor min de valores ausentes es 1 y que no todos los ausentes tienen mas de 64 productos"
   ]
  },
  {
   "cell_type": "code",
   "execution_count": null,
   "id": "7a987d08",
   "metadata": {
    "id": "7a987d08"
   },
   "outputs": [
    {
     "name": "stdout",
     "output_type": "stream",
     "text": [
      "0    17\n",
      "1     1\n",
      "2     1\n",
      "3    35\n",
      "4     5\n",
      "Name: add_to_cart_order, dtype: int64\n"
     ]
    }
   ],
   "source": [
    "# Remplazar los valores ausentes en la columna 'add_to_cart' con 999 y convertir la columna al tipo entero.\n",
    "\n",
    "df_op['add_to_cart_order'] = df_op['add_to_cart_order'].fillna(999).astype(int)\n",
    "\n",
    "print(df_op['add_to_cart_order'].head())\n"
   ]
  },
  {
   "cell_type": "markdown",
   "id": "fea4bcc7",
   "metadata": {
    "id": "fea4bcc7"
   },
   "source": [
    "* Reemplace los valores NAN por 999 con fillna() y converti la columna a entera con astype(int)"
   ]
  },
  {
   "cell_type": "markdown",
   "id": "RnplPFY1gSrb",
   "metadata": {
    "id": "RnplPFY1gSrb"
   },
   "source": [
    "## Conclusiones\n",
    "\n",
    "* Durante este paso se realizaron tecnicas importantes para limpiar y administrar los datos, empezando por corregir ciertas columnas de acuerdo al tipo de datos que deberian incluir, asimismo se identificaron y verificaron los valores ausentes en los datos para eliminar el riesgo de falsa informacion a la hora del analisis, algunos datos se agruparon por ciertos valores para identificar algunos comportamientos y tambien se filtraron ciertos resultados especificos para obtener informacion mas precisa.\n"
   ]
  },
  {
   "cell_type": "markdown",
   "id": "UjrOIwTcz3ri",
   "metadata": {
    "id": "UjrOIwTcz3ri"
   },
   "source": [
    "# Análisis de los datos\n"
   ]
  },
  {
   "cell_type": "markdown",
   "id": "short-capability",
   "metadata": {
    "id": "short-capability"
   },
   "source": [
    "### Verificar que los valores sean sensibles"
   ]
  },
  {
   "cell_type": "code",
   "execution_count": null,
   "id": "growing-fruit",
   "metadata": {
    "id": "growing-fruit"
   },
   "outputs": [
    {
     "name": "stdout",
     "output_type": "stream",
     "text": [
      "Empty DataFrame\n",
      "Columns: [order_id, user_id, order_number, order_dow, order_hour_of_day, days_since_prior_order]\n",
      "Index: []\n"
     ]
    }
   ],
   "source": [
    "values = df_io['order_hour_of_day'].between(0, 23)\n",
    "\n",
    "out_of_range = df_io[~values]\n",
    "print(out_of_range)"
   ]
  },
  {
   "cell_type": "code",
   "execution_count": null,
   "id": "accessory-malaysia",
   "metadata": {
    "id": "accessory-malaysia"
   },
   "outputs": [
    {
     "name": "stdout",
     "output_type": "stream",
     "text": [
      "Empty DataFrame\n",
      "Columns: [order_id, user_id, order_number, order_dow, order_hour_of_day, days_since_prior_order]\n",
      "Index: []\n"
     ]
    }
   ],
   "source": [
    "values = df_io['order_dow'].between(0,6)\n",
    "\n",
    "out_of_range = df_io[~values]\n",
    "print(out_of_range)"
   ]
  },
  {
   "cell_type": "markdown",
   "id": "hmR2GNQ6lCsX",
   "metadata": {
    "id": "hmR2GNQ6lCsX"
   },
   "source": [
    "* Todos los valores estan dentro de los rangos indicados."
   ]
  },
  {
   "cell_type": "markdown",
   "id": "a6743a70",
   "metadata": {
    "id": "a6743a70"
   },
   "source": [
    "### Para cada hora del día, ¿cuántas personas hacen órdenes?"
   ]
  },
  {
   "cell_type": "code",
   "execution_count": null,
   "id": "a36cca27",
   "metadata": {
    "id": "a36cca27"
   },
   "outputs": [
    {
     "data": {
      "image/png": "[encoded data removed]",
      "text/plain": [
       "<Figure size 1500x500 with 1 Axes>"
      ]
     },
     "metadata": {},
     "output_type": "display_data"
    }
   ],
   "source": [
    "orders_hour = df_io.groupby('order_hour_of_day')['user_id'].count()\n",
    "\n",
    "orders_hour.plot(kind = 'bar', x = 'order_hour_of_day', y = 'user_id', xlabel = 'Hora', xlim = [1,24], ylabel = 'Personas', figsize=[ 15, 5])\n",
    "plt.show()"
   ]
  },
  {
   "cell_type": "markdown",
   "id": "11270eed",
   "metadata": {
    "id": "11270eed"
   },
   "source": [
    "* La gran mayoria de los pedidos se hacen entre las 9 y las 16 horas, superando los 35000 pedidos cada hora"
   ]
  },
  {
   "cell_type": "markdown",
   "id": "documented-command",
   "metadata": {
    "id": "documented-command"
   },
   "source": [
    "### ¿Qué día de la semana compran víveres las personas?"
   ]
  },
  {
   "cell_type": "code",
   "execution_count": null,
   "id": "chief-digit",
   "metadata": {
    "id": "chief-digit"
   },
   "outputs": [
    {
     "data": {
      "image/png": "[encoded data removed]",
      "text/plain": [
       "<Figure size 1500x500 with 1 Axes>"
      ]
     },
     "metadata": {},
     "output_type": "display_data"
    }
   ],
   "source": [
    "orders_day = df_io.groupby('order_dow')['user_id'].count()\n",
    "\n",
    "orders_day.plot(kind = 'bar', x = 'order_dow', y = 'user_id', xlabel = 'Dia', ylabel = 'Personas', figsize=[ 15, 5])\n",
    "plt.show()"
   ]
  },
  {
   "cell_type": "markdown",
   "id": "dominant-lightning",
   "metadata": {
    "id": "dominant-lightning"
   },
   "source": [
    "* Todos los dias se hacen compras, pero pude identificar que el Domingo y Lunes son los dias que mas se hacen compras"
   ]
  },
  {
   "cell_type": "markdown",
   "id": "cutting-concert",
   "metadata": {
    "id": "cutting-concert"
   },
   "source": [
    "### ¿Cuánto tiempo esperan las personas hasta hacer otro pedido? Comenta sobre los valores mínimos y máximos."
   ]
  },
  {
   "cell_type": "code",
   "execution_count": null,
   "id": "c231f523",
   "metadata": {
    "id": "c231f523"
   },
   "outputs": [
    {
     "data": {
      "image/png": "[encoded data removed]",
      "text/plain": [
       "<Figure size 1500x500 with 1 Axes>"
      ]
     },
     "metadata": {},
     "output_type": "display_data"
    }
   ],
   "source": [
    "orders_wait = df_io.groupby('days_since_prior_order')['user_id'].count()\n",
    "\n",
    "orders_wait.plot(kind = 'bar', x = 'days_since_prior_order', y = 'user_id', xlabel = 'Dias de espera', ylabel = 'Personas', figsize=[ 15, 5])\n",
    "plt.show()"
   ]
  },
  {
   "cell_type": "markdown",
   "id": "discrete-vertex",
   "metadata": {
    "id": "discrete-vertex"
   },
   "source": [
    "* De acuerdo al grafico, el mayor numero de dias de espera son 30 y 50 mil personas esperan ese mes\n",
    "* El menor numero de dias es 0 y son 10 mil personas las que compran a diario"
   ]
  },
  {
   "cell_type": "markdown",
   "id": "packed-classic",
   "metadata": {
    "id": "packed-classic"
   },
   "source": [
    "### Diferencia entre miércoles y sábados para  `'order_hour_of_day'`. Traza gráficos de barra para los dos días y describe las diferencias que veas."
   ]
  },
  {
   "cell_type": "code",
   "execution_count": null,
   "id": "d89b8403",
   "metadata": {
    "id": "d89b8403"
   },
   "outputs": [
    {
     "data": {
      "image/png": "[encoded data removed]",
      "text/plain": [
       "<Figure size 1500x500 with 1 Axes>"
      ]
     },
     "metadata": {},
     "output_type": "display_data"
    }
   ],
   "source": [
    "df_miercoles = df_io[df_io['order_dow'] == 3]\n",
    "orders_hour = df_miercoles.groupby('order_hour_of_day')['order_dow'].count()\n",
    "\n",
    "orders_hour.plot(title = 'Compras por hora del dia miercoles', \n",
    "                 kind = 'bar', \n",
    "                 x = 'order_hour_of_day',\n",
    "                 y = 'user_id', \n",
    "                 xlabel = 'Hora', \n",
    "                 ylabel = 'Personas', \n",
    "                 figsize=[ 15, 5])\n",
    "plt.show()"
   ]
  },
  {
   "cell_type": "code",
   "execution_count": null,
   "id": "94e54e8a",
   "metadata": {
    "id": "94e54e8a"
   },
   "outputs": [
    {
     "data": {
      "image/png": "[encoded data removed]",
      "text/plain": [
       "<Figure size 1500x500 with 1 Axes>"
      ]
     },
     "metadata": {},
     "output_type": "display_data"
    }
   ],
   "source": [
    "df_miercoles = df_io[df_io['order_dow'] == 6]\n",
    "orders_hour = df_miercoles.groupby('order_hour_of_day')['order_dow'].count()\n",
    "\n",
    "orders_hour.plot(title = 'Compras por hora del dia Sabado', \n",
    "                 kind = 'bar',\n",
    "                 x = 'order_hour_of_day',\n",
    "                 y = 'user_id', \n",
    "                 xlabel = 'Hora', \n",
    "                 ylabel = 'Personas', \n",
    "                 figsize=[ 15, 5])\n",
    "plt.show()"
   ]
  },
  {
   "cell_type": "markdown",
   "id": "charitable-congo",
   "metadata": {
    "id": "charitable-congo"
   },
   "source": [
    "* La tendencia es muy parecida, la mayor cantidad de compras ocurren entre las 8 y 18 horas.\n",
    "* Sin embargo hablando de valores maximos, el dia miercoles presenta una disminucion pequeña de su valor maximo entre las 12 y 14 horas\n",
    "* Mientras que el dia sabado mantiene su valor casi maximo desde las 10 hasta las 16 horas"
   ]
  },
  {
   "cell_type": "markdown",
   "id": "e3891143",
   "metadata": {
    "id": "e3891143"
   },
   "source": [
    "### ¿Cuál es la distribución para el número de pedidos por cliente?"
   ]
  },
  {
   "cell_type": "code",
   "execution_count": null,
   "id": "d8c26c23",
   "metadata": {
    "id": "d8c26c23"
   },
   "outputs": [
    {
     "data": {
      "image/png": "[encoded data removed]",
      "text/plain": [
       "<Figure size 1500x500 with 1 Axes>"
      ]
     },
     "metadata": {},
     "output_type": "display_data"
    }
   ],
   "source": [
    "\n",
    "orders_number = df_io.groupby('order_number')['order_id'].count()\n",
    "\n",
    "orders_number.plot(title = 'Compras por hora del dia Sabado', \n",
    "                 kind = 'bar',\n",
    "                 x = 'order_number',\n",
    "                 y = 'user_id', \n",
    "                 xlabel = 'Pedidos', \n",
    "                 ylabel = 'Personas', \n",
    "                 figsize=[ 15, 5])\n",
    "plt.show()"
   ]
  },
  {
   "cell_type": "markdown",
   "id": "d2eff7d5",
   "metadata": {
    "id": "d2eff7d5"
   },
   "source": [
    "* De acuerdo a la grafica, conforme el numero de pedidos aumenta la cantidad de clientes disminuye\n",
    "* Para 4 pedidos o menos son mas de 25 mil personas mientras que a partir de 90 hay una cantidad muy minima."
   ]
  },
  {
   "cell_type": "markdown",
   "id": "54a0319c",
   "metadata": {
    "id": "54a0319c"
   },
   "source": [
    "### ¿Cuáles son los 20 productos más populares (muestra su ID y nombre)?"
   ]
  },
  {
   "cell_type": "code",
   "execution_count": null,
   "id": "exterior-arizona",
   "metadata": {
    "id": "exterior-arizona",
    "scrolled": true
   },
   "outputs": [
    {
     "name": "stdout",
     "output_type": "stream",
     "text": [
      "24852    66050\n",
      "13176    53297\n",
      "21137    37039\n",
      "21903    33971\n",
      "47209    29773\n",
      "47766    24689\n",
      "47626    21495\n",
      "16797    20018\n",
      "26209    19690\n",
      "27845    19600\n",
      "27966    19197\n",
      "22935    15898\n",
      "24964    15292\n",
      "45007    14584\n",
      "39275    13879\n",
      "49683    13675\n",
      "28204    12544\n",
      "5876     12232\n",
      "8277     11993\n",
      "40706    11781\n",
      "Name: product_id, dtype: int64\n"
     ]
    }
   ],
   "source": [
    "top_products = df_op['product_id'].value_counts().head(20)\n",
    "print(top_products)"
   ]
  },
  {
   "cell_type": "code",
   "execution_count": null,
   "id": "universal-facial",
   "metadata": {
    "id": "universal-facial"
   },
   "outputs": [
    {
     "name": "stdout",
     "output_type": "stream",
     "text": [
      "    product_id  order_count  product_id_y              product_name  aisle_id  \\\n",
      "0        24852        66050         24852                    BANANA        24   \n",
      "1        13176        53297         13176    BAG OF ORGANIC BANANAS        24   \n",
      "2        21137        37039         21137      ORGANIC STRAWBERRIES        24   \n",
      "3        21903        33971         21903      ORGANIC BABY SPINACH       123   \n",
      "4        47209        29773         47209      ORGANIC HASS AVOCADO        24   \n",
      "5        47766        24689         47766           ORGANIC AVOCADO        24   \n",
      "6        47626        21495         47626               LARGE LEMON        24   \n",
      "7        16797        20018         16797              STRAWBERRIES        24   \n",
      "8        26209        19690         26209                     LIMES        24   \n",
      "9        27845        19600         27845        ORGANIC WHOLE MILK        84   \n",
      "10       27966        19197         27966       ORGANIC RASPBERRIES       123   \n",
      "11       22935        15898         22935      ORGANIC YELLOW ONION        83   \n",
      "12       24964        15292         24964            ORGANIC GARLIC        83   \n",
      "13       45007        14584         45007          ORGANIC ZUCCHINI        83   \n",
      "14       39275        13879         39275       ORGANIC BLUEBERRIES       123   \n",
      "15       49683        13675         49683            CUCUMBER KIRBY        83   \n",
      "16       28204        12544         28204        ORGANIC FUJI APPLE        24   \n",
      "17        5876        12232          5876             ORGANIC LEMON        24   \n",
      "18        8277        11993          8277  APPLE HONEYCRISP ORGANIC        24   \n",
      "19       40706        11781         40706    ORGANIC GRAPE TOMATOES       123   \n",
      "\n",
      "    department_id  \n",
      "0               4  \n",
      "1               4  \n",
      "2               4  \n",
      "3               4  \n",
      "4               4  \n",
      "5               4  \n",
      "6               4  \n",
      "7               4  \n",
      "8               4  \n",
      "9              16  \n",
      "10              4  \n",
      "11              4  \n",
      "12              4  \n",
      "13              4  \n",
      "14              4  \n",
      "15              4  \n",
      "16              4  \n",
      "17              4  \n",
      "18              4  \n",
      "19              4  \n"
     ]
    }
   ],
   "source": [
    "# unir dos tablas para obtener el id y nombre de los productos\n",
    "df_tp = top_products.reset_index().merge(df_products, left_on='index', right_on='product_id')\n",
    "\n",
    "df_tp.columns = ['product_id', 'order_count', 'product_id_y', 'product_name', 'aisle_id' ,'department_id' ]\n",
    "\n",
    "print(df_tp)"
   ]
  },
  {
   "cell_type": "code",
   "execution_count": null,
   "id": "bbcdd20b",
   "metadata": {
    "id": "bbcdd20b"
   },
   "outputs": [
    {
     "name": "stdout",
     "output_type": "stream",
     "text": [
      "    product_id  order_count              product_name\n",
      "0        24852        66050                    BANANA\n",
      "1        13176        53297    BAG OF ORGANIC BANANAS\n",
      "2        21137        37039      ORGANIC STRAWBERRIES\n",
      "3        21903        33971      ORGANIC BABY SPINACH\n",
      "4        47209        29773      ORGANIC HASS AVOCADO\n",
      "5        47766        24689           ORGANIC AVOCADO\n",
      "6        47626        21495               LARGE LEMON\n",
      "7        16797        20018              STRAWBERRIES\n",
      "8        26209        19690                     LIMES\n",
      "9        27845        19600        ORGANIC WHOLE MILK\n",
      "10       27966        19197       ORGANIC RASPBERRIES\n",
      "11       22935        15898      ORGANIC YELLOW ONION\n",
      "12       24964        15292            ORGANIC GARLIC\n",
      "13       45007        14584          ORGANIC ZUCCHINI\n",
      "14       39275        13879       ORGANIC BLUEBERRIES\n",
      "15       49683        13675            CUCUMBER KIRBY\n",
      "16       28204        12544        ORGANIC FUJI APPLE\n",
      "17        5876        12232             ORGANIC LEMON\n",
      "18        8277        11993  APPLE HONEYCRISP ORGANIC\n",
      "19       40706        11781    ORGANIC GRAPE TOMATOES\n"
     ]
    }
   ],
   "source": [
    "top = df_tp[['product_id', 'order_count', 'product_name']]\n",
    "\n",
    "print(top)"
   ]
  },
  {
   "cell_type": "markdown",
   "id": "7df00f47",
   "metadata": {
    "id": "7df00f47"
   },
   "source": [
    "* Fue necesario hacer una union (merge) entre las tablas products y order products con respecto a el id product, ya que es un elemnto que ambas tablas tienen, la union se realizo para obtener los productos mas populares de la tabla order products mientras que los nombres de los productos se obtuvieron de la tabla products\n",
    "\n",
    "* El producto mas comprado son las bananas"
   ]
  },
  {
   "cell_type": "markdown",
   "id": "romantic-deposit",
   "metadata": {
    "id": "romantic-deposit"
   },
   "source": [
    "### ¿Cuántos artículos compran normalmente las personas en un pedido? ¿Cómo es la distribución?"
   ]
  },
  {
   "cell_type": "code",
   "execution_count": null,
   "id": "virtual-punch",
   "metadata": {
    "id": "virtual-punch"
   },
   "outputs": [
    {
     "name": "stdout",
     "output_type": "stream",
     "text": [
      "El promedio de pedidos es:\n",
      "10.098983215049127\n"
     ]
    }
   ],
   "source": [
    "number = df_op.groupby('order_id')['product_id'].count()\n",
    "\n",
    "print('El promedio de pedidos es:')\n",
    "print(number.mean())\n",
    "\n",
    "\n"
   ]
  },
  {
   "cell_type": "code",
   "execution_count": null,
   "id": "sensitive-breathing",
   "metadata": {
    "id": "sensitive-breathing"
   },
   "outputs": [
    {
     "data": {
      "image/png": "[encoded data removed]",
      "text/plain": [
       "<Figure size 1500x500 with 1 Axes>"
      ]
     },
     "metadata": {},
     "output_type": "display_data"
    }
   ],
   "source": [
    "plt.figure(figsize=(15,5))\n",
    "plt.hist(number, bins=10, edgecolor='black')\n",
    "\n",
    "plt.title('Distribución de Artículos por Pedido')\n",
    "plt.xlabel('Número de Artículos por Pedido')\n",
    "plt.xlim([1, 60])\n",
    "plt.ylabel('Frecuencia')\n",
    "\n",
    "plt.show()"
   ]
  },
  {
   "cell_type": "code",
   "execution_count": null,
   "id": "21e4b413",
   "metadata": {},
   "outputs": [],
   "source": [
    "\n",
    "\n",
    "# Datos de ejemplo\n",
    "number = [1, 2, 2, 3, 4, 5, 5, 5, 10, 15, 20, 25, 30, 35, 40, 45, 50, 55, 60]\n",
    "\n",
    "# Crear el histograma\n",
    "plt.figure(figsize=(15, 5))\n",
    "counts, bins, patches = plt.hist(number, bins=10, edgecolor='black')\n",
    "\n",
    "# Agregar etiquetas con los valores en la parte superior de cada barra\n",
    "for count, x in zip(counts, bins[:-1]):  # bins[:-1] evita incluir el último borde del histograma\n",
    "    plt.text(x + (bins[1] - bins[0]) / 2, count,  # Coordenadas para el texto\n",
    "             str(int(count)),  # El valor que se mostrará (entero)\n",
    "             ha='center', va='bottom', fontsize=10)  # Alineación y tamaño de fuente\n",
    "\n",
    "# Configurar el diseño del gráfico\n",
    "plt.title('Distribución de Artículos por Pedido')\n",
    "plt.xlabel('Número de Artículos por Pedido')\n",
    "plt.xlim([1, 60])\n",
    "plt.ylabel('Frecuencia')\n",
    "\n",
    "# Mostrar el gráfico\n",
    "plt.show()"
   ]
  },
  {
   "cell_type": "markdown",
   "id": "designed-mortality",
   "metadata": {
    "id": "designed-mortality"
   },
   "source": [
    "* El promedio de articulos comprados en un pedido es de 10, ya que mas de 300 mil personas compraron ese numero de articulos\n",
    "* 100 mil personas compraron 20 articulos\n",
    "* ######################################################################"
   ]
  },
  {
   "cell_type": "markdown",
   "id": "5e6b5537",
   "metadata": {
    "id": "5e6b5537"
   },
   "source": [
    "### ¿Cuáles son los 20 principales artículos que vuelven a pedirse con mayor frecuencia (muestra sus nombres e IDs de los productos)?"
   ]
  },
  {
   "cell_type": "code",
   "execution_count": null,
   "id": "9374e55a",
   "metadata": {
    "id": "9374e55a"
   },
   "outputs": [
    {
     "name": "stdout",
     "output_type": "stream",
     "text": [
      "product_id\n",
      "24852    55763\n",
      "13176    44450\n",
      "21137    28639\n",
      "21903    26233\n",
      "47209    23629\n",
      "47766    18743\n",
      "27845    16251\n",
      "47626    15044\n",
      "27966    14748\n",
      "16797    13945\n",
      "26209    13327\n",
      "22935    11145\n",
      "24964    10411\n",
      "45007    10076\n",
      "49683     9538\n",
      "28204     8989\n",
      "8277      8836\n",
      "39275     8799\n",
      "5876      8412\n",
      "49235     8389\n",
      "Name: reordered, dtype: int64\n"
     ]
    }
   ],
   "source": [
    "reorder = df_op.groupby('product_id')['reordered'].sum().sort_values(ascending=False).head(20)\n",
    "                         \n",
    "print(reorder)"
   ]
  },
  {
   "cell_type": "code",
   "execution_count": null,
   "id": "possible-change",
   "metadata": {
    "id": "possible-change",
    "scrolled": true
   },
   "outputs": [
    {
     "name": "stdout",
     "output_type": "stream",
     "text": [
      "    product_id  reorder_count              product_name\n",
      "0        24852          55763                    BANANA\n",
      "1        13176          44450    BAG OF ORGANIC BANANAS\n",
      "2        21137          28639      ORGANIC STRAWBERRIES\n",
      "3        21903          26233      ORGANIC BABY SPINACH\n",
      "4        47209          23629      ORGANIC HASS AVOCADO\n",
      "5        47766          18743           ORGANIC AVOCADO\n",
      "6        27845          16251        ORGANIC WHOLE MILK\n",
      "7        47626          15044               LARGE LEMON\n",
      "8        27966          14748       ORGANIC RASPBERRIES\n",
      "9        16797          13945              STRAWBERRIES\n",
      "10       26209          13327                     LIMES\n",
      "11       22935          11145      ORGANIC YELLOW ONION\n",
      "12       24964          10411            ORGANIC GARLIC\n",
      "13       45007          10076          ORGANIC ZUCCHINI\n",
      "14       49683           9538            CUCUMBER KIRBY\n",
      "15       28204           8989        ORGANIC FUJI APPLE\n",
      "16        8277           8836  APPLE HONEYCRISP ORGANIC\n",
      "17       39275           8799       ORGANIC BLUEBERRIES\n",
      "18        5876           8412             ORGANIC LEMON\n",
      "19       49235           8389       ORGANIC HALF & HALF\n"
     ]
    }
   ],
   "source": [
    "df_reorder_names =reorder.reset_index().merge(df_products[['product_id', 'product_name']], on='product_id', how='left')\n",
    "df_reorder_names.columns = ['product_id', 'reorder_count', 'product_name' ]\n",
    "\n",
    "print(df_reorder_names)\n"
   ]
  },
  {
   "cell_type": "markdown",
   "id": "80e70c74",
   "metadata": {
    "id": "80e70c74"
   },
   "source": [
    "* Primero obtuve los 20 ids de productos mas reordenados, despues aplique un merge para agregar el nombre de cada producto"
   ]
  },
  {
   "cell_type": "markdown",
   "id": "9d312b14",
   "metadata": {
    "id": "9d312b14"
   },
   "source": [
    "### Para cada producto, ¿cuál es la proporción de las veces que se pide y que se vuelve a pedir?"
   ]
  },
  {
   "cell_type": "code",
   "execution_count": null,
   "id": "8ae9f4b1",
   "metadata": {
    "id": "8ae9f4b1"
   },
   "outputs": [],
   "source": [
    "total_orders = df_op.groupby('product_id')['reordered'].count()\n",
    "\n",
    "reordered_times = df_op.groupby('product_id')['reordered'].sum()\n",
    "\n",
    "proportion = reordered_times / total_orders"
   ]
  },
  {
   "cell_type": "code",
   "execution_count": null,
   "id": "103e7fe1",
   "metadata": {
    "id": "103e7fe1"
   },
   "outputs": [],
   "source": [
    "proportion_df = proportion.reset_index().merge(df_products[['product_id', 'product_name']], on='product_id', how='left')"
   ]
  },
  {
   "cell_type": "code",
   "execution_count": null,
   "id": "social-individual",
   "metadata": {
    "id": "social-individual"
   },
   "outputs": [
    {
     "name": "stdout",
     "output_type": "stream",
     "text": [
      "       product_id                                       product_name  \\\n",
      "0               1                         CHOCOLATE SANDWICH COOKIES   \n",
      "1               2                                   ALL-SEASONS SALT   \n",
      "2               3               ROBUST GOLDEN UNSWEETENED OOLONG TEA   \n",
      "3               4  SMART ONES CLASSIC FAVORITES MINI RIGATONI WIT...   \n",
      "4               7                     PURE COCONUT WATER WITH ORANGE   \n",
      "...           ...                                                ...   \n",
      "45568       49690                      HIGH PERFORMANCE ENERGY DRINK   \n",
      "45569       49691                      ORIGINAL PANCAKE & WAFFLE MIX   \n",
      "45570       49692    ORGANIC INSTANT OATMEAL LIGHT MAPLE BROWN SUGAR   \n",
      "45571       49693                             SPRING WATER BODY WASH   \n",
      "45572       49694                            BURRITO- STEAK & CHEESE   \n",
      "\n",
      "       reordered  \n",
      "0       0.564286  \n",
      "1       0.000000  \n",
      "2       0.738095  \n",
      "3       0.510204  \n",
      "4       0.500000  \n",
      "...          ...  \n",
      "45568   0.800000  \n",
      "45569   0.430556  \n",
      "45570   0.416667  \n",
      "45571   0.440000  \n",
      "45572   0.333333  \n",
      "\n",
      "[45573 rows x 3 columns]\n"
     ]
    }
   ],
   "source": [
    "print(proportion_df[['product_id', 'product_name', 'reordered']])"
   ]
  },
  {
   "cell_type": "markdown",
   "id": "I10dEIAyldcO",
   "metadata": {
    "id": "I10dEIAyldcO"
   },
   "source": [
    "* Fue necesario agrupar la tabla de order products, de acuerdo a los productos que se volvieron a ordenar y unir con la funcion merge la tabla de productos para obtener el nombre de los productos, realize un count para tener el conteo total y un sum para obtener la suma de los valores agrupados respecto a la columna 'product_id'. La proporcion la obtuve de dividir la suma entre el conteo, y esa columna la uni a la tabla de productos con un merge para obtener el id y nombre de los productos."
   ]
  },
  {
   "cell_type": "markdown",
   "id": "subject-boxing",
   "metadata": {
    "id": "subject-boxing"
   },
   "source": [
    "###  Para cada cliente, ¿qué proporción de sus productos ya los había pedido?"
   ]
  },
  {
   "cell_type": "code",
   "execution_count": null,
   "id": "medical-couple",
   "metadata": {
    "id": "medical-couple",
    "scrolled": true
   },
   "outputs": [
    {
     "name": "stdout",
     "output_type": "stream",
     "text": [
      "user_id\n",
      "2         0.038462\n",
      "4         0.000000\n",
      "5         0.666667\n",
      "6         0.000000\n",
      "7         0.928571\n",
      "            ...   \n",
      "206203    0.222222\n",
      "206206    0.714286\n",
      "206207    0.891304\n",
      "206208    0.696000\n",
      "206209    0.320000\n",
      "Name: reordered, Length: 149626, dtype: float64\n"
     ]
    }
   ],
   "source": [
    "df_merged = pd.merge(df_op, df_io[['order_id', 'user_id']], on='order_id', how='left')\n",
    "\n",
    "reorder_proportion = df_merged.groupby('user_id')['reordered'].mean()\n",
    "\n",
    "print(reorder_proportion)"
   ]
  },
  {
   "cell_type": "markdown",
   "id": "BgJSvXDsleXz",
   "metadata": {
    "id": "BgJSvXDsleXz"
   },
   "source": [
    "* Fue necesario usar un merge para unir df_op y df_io y obtener la columna 'reordered' y agrupar los datos de acuerdo al user id, al aplicar mean() se calcula la proporcion a cada agrupacion que en este caso es el cliente"
   ]
  },
  {
   "cell_type": "markdown",
   "id": "92d35137",
   "metadata": {
    "id": "92d35137"
   },
   "source": [
    "### ¿Cuáles son los 20 principales artículos que las personas ponen primero en sus carritos?"
   ]
  },
  {
   "cell_type": "code",
   "execution_count": null,
   "id": "0ae57274",
   "metadata": {
    "id": "0ae57274",
    "scrolled": true
   },
   "outputs": [
    {
     "name": "stdout",
     "output_type": "stream",
     "text": [
      "    product_id  add_to_cart_order                 product_name\n",
      "0        24852              15562                       BANANA\n",
      "1        13176              11026       BAG OF ORGANIC BANANAS\n",
      "2        27845               4363           ORGANIC WHOLE MILK\n",
      "3        21137               3946         ORGANIC STRAWBERRIES\n",
      "4        47209               3390         ORGANIC HASS AVOCADO\n",
      "5        21903               3336         ORGANIC BABY SPINACH\n",
      "6        47766               3044              ORGANIC AVOCADO\n",
      "7        19660               2336                 SPRING WATER\n",
      "8        16797               2308                 STRAWBERRIES\n",
      "9        27966               2024          ORGANIC RASPBERRIES\n",
      "10       44632               1914   SPARKLING WATER GRAPEFRUIT\n",
      "11       49235               1797          ORGANIC HALF & HALF\n",
      "12       47626               1737                  LARGE LEMON\n",
      "13         196               1733                         SODA\n",
      "14       38689               1397     ORGANIC REDUCED FAT MILK\n",
      "15       26209               1370                        LIMES\n",
      "16       12341               1340                HASS AVOCADOS\n",
      "17        5785               1310  ORGANIC REDUCED FAT 2% MILK\n",
      "18       27086               1309                  HALF & HALF\n",
      "19       43352               1246                  RASPBERRIES\n"
     ]
    }
   ],
   "source": [
    "first_in_cart = df_op[df_op['add_to_cart_order'] == 1]\n",
    "\n",
    "top_20 = first_in_cart.groupby('product_id')['add_to_cart_order'].count().sort_values(ascending=False).head(20)\n",
    "\n",
    "names = pd.merge(top_20, df_products[['product_id', 'product_name']], on='product_id', how='left')\n",
    "\n",
    "print(names)"
   ]
  },
  {
   "cell_type": "markdown",
   "id": "28ce9872",
   "metadata": {
    "id": "28ce9872"
   },
   "source": [
    "* Primero se filtra la tabla cuando el orden de agregado al carrito es 1, despues se agrupan los datos por product_id y se relaliza un conteo de forma descente donde se seleccionan solo los primeros 20, despues esos datos se unen con merge a la tabla de productos para obtener los nombres.\n"
   ]
  },
  {
   "cell_type": "markdown",
   "id": "uITbFCEoDosC",
   "metadata": {
    "id": "uITbFCEoDosC"
   },
   "source": [
    "### Conclusion general del proyecto:"
   ]
  },
  {
   "cell_type": "markdown",
   "id": "050ac93b",
   "metadata": {
    "id": "Nk-4GS7mDwqY"
   },
   "source": [
    "En el proyecto se realizó un análisis exhaustivo sobre las preferencias de los clientes y la recurrencia de productos en sus pedidos, para ello fue necesario limpiar, eliminar, seleccionar, procesar, agrupar, ordenar, filtrar y operar con loa datos.\n",
    "\n",
    "Se identificaron:\n",
    "* Los productos mas escenciales para los clientes y la frecuencia con la que se compran.\n",
    "* Los clientes que vueven a comprar y que productos.\n",
    "* Los dias y horarios en los que se realizan mas ventas.\n",
    "* Los patrones en la cantidad de productos que los clientes tienden a comprar por pedido\n",
    "    \n"
   ]
  }
 ],
 "metadata": {
  "ExecuteTimeLog": [
   {
    "duration": 9,
    "start_time": "2024-10-16T22:28:21.055Z"
   },
   {
    "duration": 2158,
    "start_time": "2024-10-16T22:33:47.309Z"
   },
   {
    "duration": 2246,
    "start_time": "2024-10-16T22:33:51.034Z"
   },
   {
    "duration": 5,
    "start_time": "2024-10-16T22:33:55.875Z"
   },
   {
    "duration": 4,
    "start_time": "2024-10-16T22:33:59.886Z"
   },
   {
    "duration": 4,
    "start_time": "2024-10-16T22:34:00.864Z"
   },
   {
    "duration": 5,
    "start_time": "2024-10-16T22:34:01.806Z"
   },
   {
    "duration": 4,
    "start_time": "2024-10-16T22:34:02.679Z"
   },
   {
    "duration": 4,
    "start_time": "2024-10-16T22:34:07.421Z"
   },
   {
    "duration": 2368,
    "start_time": "2024-10-16T23:20:50.046Z"
   },
   {
    "duration": 2384,
    "start_time": "2024-10-16T23:20:59.766Z"
   },
   {
    "duration": 8,
    "start_time": "2024-10-16T23:22:34.763Z"
   },
   {
    "duration": 2370,
    "start_time": "2024-10-16T23:23:04.151Z"
   },
   {
    "duration": 731,
    "start_time": "2024-10-16T23:26:36.465Z"
   },
   {
    "duration": 53,
    "start_time": "2024-10-16T23:26:45.380Z"
   },
   {
    "duration": 47,
    "start_time": "2024-10-16T23:27:43.087Z"
   },
   {
    "duration": 4,
    "start_time": "2024-10-16T23:28:15.392Z"
   },
   {
    "duration": 48,
    "start_time": "2024-10-16T23:28:20.953Z"
   },
   {
    "duration": 2531,
    "start_time": "2024-10-16T23:28:28.747Z"
   },
   {
    "duration": 2674,
    "start_time": "2024-10-16T23:29:40.435Z"
   },
   {
    "duration": 4,
    "start_time": "2024-10-16T23:36:08.381Z"
   },
   {
    "duration": 12,
    "start_time": "2024-10-16T23:36:26.595Z"
   },
   {
    "duration": 43,
    "start_time": "2024-10-16T23:36:39.477Z"
   },
   {
    "duration": 45,
    "start_time": "2024-10-16T23:38:39.366Z"
   },
   {
    "duration": 14,
    "start_time": "2024-10-16T23:40:17.126Z"
   },
   {
    "duration": 44,
    "start_time": "2024-10-16T23:40:35.151Z"
   },
   {
    "duration": 3,
    "start_time": "2024-10-16T23:42:22.006Z"
   },
   {
    "duration": 2108,
    "start_time": "2024-10-16T23:42:22.524Z"
   },
   {
    "duration": 4,
    "start_time": "2024-10-16T23:42:24.634Z"
   },
   {
    "duration": 5,
    "start_time": "2024-10-16T23:42:24.639Z"
   },
   {
    "duration": 4,
    "start_time": "2024-10-16T23:42:24.646Z"
   },
   {
    "duration": 4,
    "start_time": "2024-10-16T23:42:24.651Z"
   },
   {
    "duration": 5,
    "start_time": "2024-10-16T23:42:25.643Z"
   },
   {
    "duration": 169,
    "start_time": "2024-10-16T23:42:30.432Z"
   },
   {
    "duration": 164,
    "start_time": "2024-10-16T23:42:48.015Z"
   },
   {
    "duration": 321,
    "start_time": "2024-10-16T23:43:13.166Z"
   },
   {
    "duration": 320,
    "start_time": "2024-10-16T23:44:55.318Z"
   },
   {
    "duration": 169,
    "start_time": "2024-10-16T23:46:32.433Z"
   },
   {
    "duration": 334,
    "start_time": "2024-10-16T23:46:39.546Z"
   },
   {
    "duration": 38,
    "start_time": "2024-10-16T23:49:45.807Z"
   },
   {
    "duration": 48,
    "start_time": "2024-10-16T23:51:24.650Z"
   },
   {
    "duration": 39,
    "start_time": "2024-10-16T23:51:32.794Z"
   },
   {
    "duration": 41,
    "start_time": "2024-10-16T23:52:21.288Z"
   },
   {
    "duration": 14,
    "start_time": "2024-10-16T23:53:03.974Z"
   },
   {
    "duration": 40,
    "start_time": "2024-10-16T23:53:11.996Z"
   },
   {
    "duration": 5,
    "start_time": "2024-10-16T23:53:34.768Z"
   },
   {
    "duration": 39,
    "start_time": "2024-10-16T23:53:43.053Z"
   },
   {
    "duration": 20,
    "start_time": "2024-10-16T23:53:59.173Z"
   },
   {
    "duration": 12,
    "start_time": "2024-10-16T23:54:03.208Z"
   },
   {
    "duration": 12,
    "start_time": "2024-10-16T23:54:15.563Z"
   },
   {
    "duration": 5,
    "start_time": "2024-10-16T23:54:48.279Z"
   },
   {
    "duration": 12,
    "start_time": "2024-10-16T23:54:51.632Z"
   },
   {
    "duration": 13,
    "start_time": "2024-10-16T23:57:21.145Z"
   },
   {
    "duration": 40,
    "start_time": "2024-10-17T00:00:28.325Z"
   },
   {
    "duration": 16,
    "start_time": "2024-10-17T00:02:19.981Z"
   },
   {
    "duration": 42,
    "start_time": "2024-10-17T00:02:38.210Z"
   },
   {
    "duration": 4,
    "start_time": "2024-10-17T00:05:33.315Z"
   },
   {
    "duration": 831,
    "start_time": "2024-10-17T00:08:30.444Z"
   },
   {
    "duration": 4,
    "start_time": "2024-10-17T00:08:31.278Z"
   },
   {
    "duration": 4,
    "start_time": "2024-10-17T00:08:32.147Z"
   },
   {
    "duration": 5,
    "start_time": "2024-10-17T00:08:35.039Z"
   },
   {
    "duration": 5,
    "start_time": "2024-10-17T00:08:38.127Z"
   },
   {
    "duration": 5,
    "start_time": "2024-10-17T00:08:39.503Z"
   },
   {
    "duration": 175,
    "start_time": "2024-10-17T00:08:51.194Z"
   },
   {
    "duration": 14,
    "start_time": "2024-10-17T00:09:03.515Z"
   },
   {
    "duration": 9,
    "start_time": "2024-10-17T00:13:46.311Z"
   },
   {
    "duration": 9,
    "start_time": "2024-10-17T00:13:58.029Z"
   },
   {
    "duration": 85,
    "start_time": "2024-10-17T00:14:58.497Z"
   },
   {
    "duration": 7,
    "start_time": "2024-10-17T00:15:22.128Z"
   },
   {
    "duration": 184,
    "start_time": "2024-10-17T00:15:49.665Z"
   },
   {
    "duration": 109,
    "start_time": "2024-10-17T00:19:06.165Z"
   },
   {
    "duration": 184,
    "start_time": "2024-10-17T00:19:44.378Z"
   },
   {
    "duration": 101,
    "start_time": "2024-10-17T00:20:33.208Z"
   },
   {
    "duration": 174,
    "start_time": "2024-10-17T00:20:36.235Z"
   },
   {
    "duration": 5,
    "start_time": "2024-10-17T00:23:09.724Z"
   },
   {
    "duration": 41,
    "start_time": "2024-10-17T00:23:24.163Z"
   },
   {
    "duration": 26,
    "start_time": "2024-10-17T00:23:34.572Z"
   },
   {
    "duration": 36,
    "start_time": "2024-10-17T00:24:53.565Z"
   },
   {
    "duration": 29,
    "start_time": "2024-10-17T00:25:07.135Z"
   },
   {
    "duration": 26,
    "start_time": "2024-10-17T00:26:24.234Z"
   },
   {
    "duration": 20,
    "start_time": "2024-10-17T00:29:42.866Z"
   },
   {
    "duration": 13,
    "start_time": "2024-10-17T00:32:38.662Z"
   },
   {
    "duration": 4,
    "start_time": "2024-10-17T00:32:49.580Z"
   },
   {
    "duration": 19,
    "start_time": "2024-10-17T00:35:18.110Z"
   },
   {
    "duration": 18,
    "start_time": "2024-10-17T00:35:50.953Z"
   },
   {
    "duration": 21,
    "start_time": "2024-10-17T00:36:09.457Z"
   },
   {
    "duration": 21,
    "start_time": "2024-10-17T00:37:10.466Z"
   },
   {
    "duration": 28,
    "start_time": "2024-10-17T00:37:17.234Z"
   },
   {
    "duration": 3,
    "start_time": "2024-10-17T00:37:17.500Z"
   },
   {
    "duration": 3,
    "start_time": "2024-10-17T00:37:18.049Z"
   },
   {
    "duration": 3,
    "start_time": "2024-10-17T00:37:18.237Z"
   },
   {
    "duration": 3,
    "start_time": "2024-10-17T00:37:24.946Z"
   },
   {
    "duration": 862,
    "start_time": "2024-10-17T00:37:25.917Z"
   },
   {
    "duration": 7,
    "start_time": "2024-10-17T00:37:26.781Z"
   },
   {
    "duration": 4,
    "start_time": "2024-10-17T00:37:26.790Z"
   },
   {
    "duration": 13,
    "start_time": "2024-10-17T00:37:26.796Z"
   },
   {
    "duration": 4,
    "start_time": "2024-10-17T00:37:26.810Z"
   },
   {
    "duration": 4,
    "start_time": "2024-10-17T00:37:26.830Z"
   },
   {
    "duration": 155,
    "start_time": "2024-10-17T00:37:31.383Z"
   },
   {
    "duration": 9,
    "start_time": "2024-10-17T00:37:34.957Z"
   },
   {
    "duration": 87,
    "start_time": "2024-10-17T00:37:36.875Z"
   },
   {
    "duration": 160,
    "start_time": "2024-10-17T00:37:37.405Z"
   },
   {
    "duration": 25,
    "start_time": "2024-10-17T00:37:37.946Z"
   },
   {
    "duration": 16,
    "start_time": "2024-10-17T00:37:41.408Z"
   },
   {
    "duration": 5,
    "start_time": "2024-10-17T00:37:42.006Z"
   },
   {
    "duration": 22,
    "start_time": "2024-10-17T00:37:43.443Z"
   },
   {
    "duration": 22,
    "start_time": "2024-10-17T00:38:16.299Z"
   },
   {
    "duration": 154,
    "start_time": "2024-10-17T00:39:05.535Z"
   },
   {
    "duration": 2183,
    "start_time": "2024-10-17T22:09:17.333Z"
   },
   {
    "duration": 1073,
    "start_time": "2024-10-17T22:09:19.519Z"
   },
   {
    "duration": 6,
    "start_time": "2024-10-17T22:09:20.594Z"
   },
   {
    "duration": 3,
    "start_time": "2024-10-17T22:09:20.603Z"
   },
   {
    "duration": 4,
    "start_time": "2024-10-17T22:09:20.609Z"
   },
   {
    "duration": 5,
    "start_time": "2024-10-17T22:09:20.615Z"
   },
   {
    "duration": 4,
    "start_time": "2024-10-17T22:09:20.622Z"
   },
   {
    "duration": 223,
    "start_time": "2024-10-17T22:09:20.643Z"
   },
   {
    "duration": 8,
    "start_time": "2024-10-17T22:09:20.869Z"
   },
   {
    "duration": 123,
    "start_time": "2024-10-17T22:09:20.879Z"
   },
   {
    "duration": 194,
    "start_time": "2024-10-17T22:09:21.004Z"
   },
   {
    "duration": 40,
    "start_time": "2024-10-17T22:09:21.349Z"
   },
   {
    "duration": 20,
    "start_time": "2024-10-17T22:09:25.177Z"
   },
   {
    "duration": 5,
    "start_time": "2024-10-17T22:09:25.534Z"
   },
   {
    "duration": 375,
    "start_time": "2024-10-17T22:09:32.447Z"
   },
   {
    "duration": 27,
    "start_time": "2024-10-17T22:10:44.269Z"
   },
   {
    "duration": 6,
    "start_time": "2024-10-17T22:11:31.831Z"
   },
   {
    "duration": 849,
    "start_time": "2024-10-17T22:12:06.971Z"
   },
   {
    "duration": 10,
    "start_time": "2024-10-17T22:12:23.854Z"
   },
   {
    "duration": 2,
    "start_time": "2024-10-17T22:12:48.676Z"
   },
   {
    "duration": 890,
    "start_time": "2024-10-17T22:12:48.847Z"
   },
   {
    "duration": 5,
    "start_time": "2024-10-17T22:12:49.740Z"
   },
   {
    "duration": 5,
    "start_time": "2024-10-17T22:12:49.747Z"
   },
   {
    "duration": 6,
    "start_time": "2024-10-17T22:12:49.755Z"
   },
   {
    "duration": 6,
    "start_time": "2024-10-17T22:12:49.763Z"
   },
   {
    "duration": 6,
    "start_time": "2024-10-17T22:12:49.771Z"
   },
   {
    "duration": 154,
    "start_time": "2024-10-17T22:12:51.062Z"
   },
   {
    "duration": 8,
    "start_time": "2024-10-17T22:12:51.518Z"
   },
   {
    "duration": 87,
    "start_time": "2024-10-17T22:12:52.751Z"
   },
   {
    "duration": 159,
    "start_time": "2024-10-17T22:12:52.967Z"
   },
   {
    "duration": 28,
    "start_time": "2024-10-17T22:12:53.155Z"
   },
   {
    "duration": 13,
    "start_time": "2024-10-17T22:12:53.693Z"
   },
   {
    "duration": 8,
    "start_time": "2024-10-17T22:12:54.067Z"
   },
   {
    "duration": 5,
    "start_time": "2024-10-17T22:12:54.319Z"
   },
   {
    "duration": 2,
    "start_time": "2024-10-17T22:12:54.982Z"
   },
   {
    "duration": 18,
    "start_time": "2024-10-17T22:14:51.067Z"
   },
   {
    "duration": 19,
    "start_time": "2024-10-17T22:16:12.589Z"
   },
   {
    "duration": 23,
    "start_time": "2024-10-17T22:17:11.094Z"
   },
   {
    "duration": 10,
    "start_time": "2024-10-17T22:22:02.022Z"
   },
   {
    "duration": 6,
    "start_time": "2024-10-17T22:26:43.241Z"
   },
   {
    "duration": 5,
    "start_time": "2024-10-17T22:27:19.673Z"
   },
   {
    "duration": 6,
    "start_time": "2024-10-17T22:29:18.961Z"
   },
   {
    "duration": 6,
    "start_time": "2024-10-17T22:31:29.872Z"
   },
   {
    "duration": 4,
    "start_time": "2024-10-17T22:32:03.686Z"
   },
   {
    "duration": 731,
    "start_time": "2024-10-17T22:35:30.019Z"
   },
   {
    "duration": 715,
    "start_time": "2024-10-17T22:35:56.715Z"
   },
   {
    "duration": 707,
    "start_time": "2024-10-17T22:36:49.262Z"
   },
   {
    "duration": 5,
    "start_time": "2024-10-17T22:38:40.015Z"
   },
   {
    "duration": 5,
    "start_time": "2024-10-17T22:39:03.808Z"
   },
   {
    "duration": 5,
    "start_time": "2024-10-17T22:39:12.368Z"
   },
   {
    "duration": 5,
    "start_time": "2024-10-17T22:39:24.603Z"
   },
   {
    "duration": 6,
    "start_time": "2024-10-17T22:41:26.730Z"
   },
   {
    "duration": 11,
    "start_time": "2024-10-17T22:41:33.248Z"
   },
   {
    "duration": 10,
    "start_time": "2024-10-17T22:41:57.321Z"
   },
   {
    "duration": 8,
    "start_time": "2024-10-17T22:42:23.117Z"
   },
   {
    "duration": 6,
    "start_time": "2024-10-17T22:43:37.522Z"
   },
   {
    "duration": 9,
    "start_time": "2024-10-17T22:43:51.074Z"
   },
   {
    "duration": 12,
    "start_time": "2024-10-17T22:45:29.339Z"
   },
   {
    "duration": 12,
    "start_time": "2024-10-17T22:45:41.776Z"
   },
   {
    "duration": 12,
    "start_time": "2024-10-17T22:45:44.742Z"
   },
   {
    "duration": 10,
    "start_time": "2024-10-17T22:46:41.442Z"
   },
   {
    "duration": 8,
    "start_time": "2024-10-17T22:50:33.534Z"
   },
   {
    "duration": 14,
    "start_time": "2024-10-17T22:53:44.549Z"
   },
   {
    "duration": 14,
    "start_time": "2024-10-17T22:54:34.204Z"
   },
   {
    "duration": 14,
    "start_time": "2024-10-17T22:54:54.038Z"
   },
   {
    "duration": 14,
    "start_time": "2024-10-17T22:55:25.377Z"
   },
   {
    "duration": 6,
    "start_time": "2024-10-17T22:55:54.505Z"
   },
   {
    "duration": 6,
    "start_time": "2024-10-17T23:00:36.308Z"
   },
   {
    "duration": 4,
    "start_time": "2024-10-17T23:01:17.385Z"
   },
   {
    "duration": 5,
    "start_time": "2024-10-17T23:01:33.139Z"
   },
   {
    "duration": 5,
    "start_time": "2024-10-17T23:01:44.071Z"
   },
   {
    "duration": 5,
    "start_time": "2024-10-17T23:01:52.903Z"
   },
   {
    "duration": 6,
    "start_time": "2024-10-17T23:02:02.387Z"
   },
   {
    "duration": 9,
    "start_time": "2024-10-17T23:05:22.387Z"
   },
   {
    "duration": 9,
    "start_time": "2024-10-17T23:07:16.611Z"
   },
   {
    "duration": 8,
    "start_time": "2024-10-17T23:07:40.411Z"
   },
   {
    "duration": 13,
    "start_time": "2024-10-17T23:09:08.247Z"
   },
   {
    "duration": 188,
    "start_time": "2024-10-17T23:10:33.278Z"
   },
   {
    "duration": 7,
    "start_time": "2024-10-17T23:12:19.259Z"
   },
   {
    "duration": 16,
    "start_time": "2024-10-17T23:12:51.211Z"
   },
   {
    "duration": 14,
    "start_time": "2024-10-17T23:12:52.671Z"
   },
   {
    "duration": 14,
    "start_time": "2024-10-17T23:13:00.528Z"
   },
   {
    "duration": 18,
    "start_time": "2024-10-17T23:13:13.296Z"
   },
   {
    "duration": 15,
    "start_time": "2024-10-17T23:16:08.324Z"
   },
   {
    "duration": 17,
    "start_time": "2024-10-17T23:16:32.619Z"
   },
   {
    "duration": 9,
    "start_time": "2024-10-17T23:19:34.375Z"
   },
   {
    "duration": 18,
    "start_time": "2024-10-17T23:42:56.254Z"
   },
   {
    "duration": 20,
    "start_time": "2024-10-17T23:43:42.509Z"
   },
   {
    "duration": 31,
    "start_time": "2024-10-17T23:44:51.172Z"
   },
   {
    "duration": 13,
    "start_time": "2024-10-17T23:49:02.778Z"
   },
   {
    "duration": 13,
    "start_time": "2024-10-18T00:08:32.384Z"
   },
   {
    "duration": 3105,
    "start_time": "2024-10-18T00:08:42.341Z"
   },
   {
    "duration": 9,
    "start_time": "2024-10-18T00:09:25.439Z"
   },
   {
    "duration": 9,
    "start_time": "2024-10-18T00:09:46.497Z"
   },
   {
    "duration": 9,
    "start_time": "2024-10-18T00:10:03.065Z"
   },
   {
    "duration": 7,
    "start_time": "2024-10-18T00:11:38.687Z"
   },
   {
    "duration": 17,
    "start_time": "2024-10-18T00:15:09.494Z"
   },
   {
    "duration": 399,
    "start_time": "2024-10-18T00:15:35.137Z"
   },
   {
    "duration": 14,
    "start_time": "2024-10-18T00:17:13.301Z"
   },
   {
    "duration": 16,
    "start_time": "2024-10-18T00:18:44.794Z"
   },
   {
    "duration": 2101,
    "start_time": "2024-10-18T21:35:06.215Z"
   },
   {
    "duration": 1015,
    "start_time": "2024-10-18T21:35:12.518Z"
   },
   {
    "duration": 6,
    "start_time": "2024-10-18T21:35:13.535Z"
   },
   {
    "duration": 3,
    "start_time": "2024-10-18T21:35:13.543Z"
   },
   {
    "duration": 5,
    "start_time": "2024-10-18T21:35:13.548Z"
   },
   {
    "duration": 4,
    "start_time": "2024-10-18T21:35:13.554Z"
   },
   {
    "duration": 4,
    "start_time": "2024-10-18T21:35:13.616Z"
   },
   {
    "duration": 187,
    "start_time": "2024-10-18T21:35:15.185Z"
   },
   {
    "duration": 9,
    "start_time": "2024-10-18T21:35:15.679Z"
   },
   {
    "duration": 98,
    "start_time": "2024-10-18T21:35:16.064Z"
   },
   {
    "duration": 165,
    "start_time": "2024-10-18T21:35:16.257Z"
   },
   {
    "duration": 29,
    "start_time": "2024-10-18T21:35:16.543Z"
   },
   {
    "duration": 22,
    "start_time": "2024-10-18T21:35:17.268Z"
   },
   {
    "duration": 5,
    "start_time": "2024-10-18T21:35:17.977Z"
   },
   {
    "duration": 23,
    "start_time": "2024-10-18T21:35:18.158Z"
   },
   {
    "duration": 8,
    "start_time": "2024-10-18T21:35:18.780Z"
   },
   {
    "duration": 5,
    "start_time": "2024-10-18T21:35:19.757Z"
   },
   {
    "duration": 5,
    "start_time": "2024-10-18T21:35:20.185Z"
   },
   {
    "duration": 4,
    "start_time": "2024-10-18T21:35:21.111Z"
   },
   {
    "duration": 5,
    "start_time": "2024-10-18T21:35:22.052Z"
   },
   {
    "duration": 776,
    "start_time": "2024-10-18T21:35:23.466Z"
   },
   {
    "duration": 764,
    "start_time": "2024-10-18T21:35:24.244Z"
   },
   {
    "duration": 6,
    "start_time": "2024-10-18T21:35:28.165Z"
   },
   {
    "duration": 9,
    "start_time": "2024-10-18T21:35:28.897Z"
   },
   {
    "duration": 9,
    "start_time": "2024-10-18T21:35:29.675Z"
   },
   {
    "duration": 6,
    "start_time": "2024-10-18T21:35:30.555Z"
   },
   {
    "duration": 10,
    "start_time": "2024-10-18T21:35:31.363Z"
   },
   {
    "duration": 10,
    "start_time": "2024-10-18T21:35:32.482Z"
   },
   {
    "duration": 13,
    "start_time": "2024-10-18T21:35:33.261Z"
   },
   {
    "duration": 17,
    "start_time": "2024-10-18T21:35:34.321Z"
   },
   {
    "duration": 32,
    "start_time": "2024-10-18T21:35:35.624Z"
   },
   {
    "duration": 8,
    "start_time": "2024-10-18T21:35:39.191Z"
   },
   {
    "duration": 14,
    "start_time": "2024-10-18T21:35:40.856Z"
   },
   {
    "duration": 10,
    "start_time": "2024-10-18T21:53:55.292Z"
   },
   {
    "duration": 10,
    "start_time": "2024-10-18T22:04:59.364Z"
   },
   {
    "duration": 9,
    "start_time": "2024-10-18T22:05:55.910Z"
   },
   {
    "duration": 639,
    "start_time": "2024-10-18T22:11:05.716Z"
   },
   {
    "duration": 28,
    "start_time": "2024-10-18T22:11:53.112Z"
   },
   {
    "duration": 5,
    "start_time": "2024-10-18T23:20:55.320Z"
   },
   {
    "duration": 5,
    "start_time": "2024-10-18T23:20:57.817Z"
   },
   {
    "duration": 1726,
    "start_time": "2024-10-18T23:27:01.322Z"
   },
   {
    "duration": 106,
    "start_time": "2024-10-18T23:31:09.120Z"
   },
   {
    "duration": 6,
    "start_time": "2024-10-18T23:32:39.528Z"
   },
   {
    "duration": 98,
    "start_time": "2024-10-18T23:32:43.869Z"
   },
   {
    "duration": 112,
    "start_time": "2024-10-18T23:33:10.473Z"
   },
   {
    "duration": 121,
    "start_time": "2024-10-18T23:33:18.392Z"
   },
   {
    "duration": 4,
    "start_time": "2024-10-18T23:35:16.183Z"
   },
   {
    "duration": 124,
    "start_time": "2024-10-18T23:35:22.889Z"
   },
   {
    "duration": 187,
    "start_time": "2024-10-18T23:36:06.329Z"
   },
   {
    "duration": 194,
    "start_time": "2024-10-18T23:36:22.456Z"
   },
   {
    "duration": 149,
    "start_time": "2024-10-18T23:39:06.796Z"
   },
   {
    "duration": 210,
    "start_time": "2024-10-18T23:41:18.308Z"
   },
   {
    "duration": 225,
    "start_time": "2024-10-18T23:42:01.989Z"
   },
   {
    "duration": 5,
    "start_time": "2024-10-18T23:48:23.467Z"
   },
   {
    "duration": 182,
    "start_time": "2024-10-18T23:48:28.841Z"
   },
   {
    "duration": 5,
    "start_time": "2024-10-18T23:49:36.948Z"
   },
   {
    "duration": 187,
    "start_time": "2024-10-18T23:49:42.056Z"
   },
   {
    "duration": 292,
    "start_time": "2024-10-18T23:50:30.942Z"
   },
   {
    "duration": 184,
    "start_time": "2024-10-19T00:01:53.715Z"
   },
   {
    "duration": 195,
    "start_time": "2024-10-19T00:02:06.439Z"
   },
   {
    "duration": 978,
    "start_time": "2024-10-19T00:02:45.875Z"
   },
   {
    "duration": 960,
    "start_time": "2024-10-19T00:03:22.921Z"
   },
   {
    "duration": 167,
    "start_time": "2024-10-19T16:40:52.355Z"
   },
   {
    "duration": 2126,
    "start_time": "2024-10-19T16:41:05.114Z"
   },
   {
    "duration": 984,
    "start_time": "2024-10-19T16:41:08.321Z"
   },
   {
    "duration": 5,
    "start_time": "2024-10-19T16:41:09.308Z"
   },
   {
    "duration": 4,
    "start_time": "2024-10-19T16:41:09.315Z"
   },
   {
    "duration": 4,
    "start_time": "2024-10-19T16:41:09.322Z"
   },
   {
    "duration": 4,
    "start_time": "2024-10-19T16:41:09.328Z"
   },
   {
    "duration": 5,
    "start_time": "2024-10-19T16:41:09.334Z"
   },
   {
    "duration": 192,
    "start_time": "2024-10-19T16:41:10.209Z"
   },
   {
    "duration": 8,
    "start_time": "2024-10-19T16:41:10.583Z"
   },
   {
    "duration": 98,
    "start_time": "2024-10-19T16:41:11.007Z"
   },
   {
    "duration": 166,
    "start_time": "2024-10-19T16:41:11.210Z"
   },
   {
    "duration": 26,
    "start_time": "2024-10-19T16:41:11.398Z"
   },
   {
    "duration": 13,
    "start_time": "2024-10-19T16:41:11.971Z"
   },
   {
    "duration": 4,
    "start_time": "2024-10-19T16:41:12.135Z"
   },
   {
    "duration": 22,
    "start_time": "2024-10-19T16:41:12.322Z"
   },
   {
    "duration": 7,
    "start_time": "2024-10-19T16:41:12.530Z"
   },
   {
    "duration": 5,
    "start_time": "2024-10-19T16:41:13.078Z"
   },
   {
    "duration": 3,
    "start_time": "2024-10-19T16:41:13.286Z"
   },
   {
    "duration": 5,
    "start_time": "2024-10-19T16:41:13.873Z"
   },
   {
    "duration": 4,
    "start_time": "2024-10-19T16:41:14.081Z"
   },
   {
    "duration": 754,
    "start_time": "2024-10-19T16:41:14.662Z"
   },
   {
    "duration": 738,
    "start_time": "2024-10-19T16:41:15.419Z"
   },
   {
    "duration": 6,
    "start_time": "2024-10-19T16:41:16.160Z"
   },
   {
    "duration": 8,
    "start_time": "2024-10-19T16:41:16.168Z"
   },
   {
    "duration": 7,
    "start_time": "2024-10-19T16:41:16.365Z"
   },
   {
    "duration": 5,
    "start_time": "2024-10-19T16:41:16.862Z"
   },
   {
    "duration": 8,
    "start_time": "2024-10-19T16:41:17.281Z"
   },
   {
    "duration": 9,
    "start_time": "2024-10-19T16:41:17.885Z"
   },
   {
    "duration": 12,
    "start_time": "2024-10-19T16:41:18.115Z"
   },
   {
    "duration": 16,
    "start_time": "2024-10-19T16:41:18.763Z"
   },
   {
    "duration": 32,
    "start_time": "2024-10-19T16:41:18.995Z"
   },
   {
    "duration": 7,
    "start_time": "2024-10-19T16:41:19.486Z"
   },
   {
    "duration": 8,
    "start_time": "2024-10-19T16:41:19.740Z"
   },
   {
    "duration": 27,
    "start_time": "2024-10-19T16:41:20.183Z"
   },
   {
    "duration": 5,
    "start_time": "2024-10-19T16:41:22.843Z"
   },
   {
    "duration": 5,
    "start_time": "2024-10-19T16:41:23.517Z"
   },
   {
    "duration": 200,
    "start_time": "2024-10-19T16:41:24.787Z"
   },
   {
    "duration": 128,
    "start_time": "2024-10-19T16:41:25.544Z"
   },
   {
    "duration": 207,
    "start_time": "2024-10-19T16:41:26.835Z"
   },
   {
    "duration": 186,
    "start_time": "2024-10-19T16:41:28.563Z"
   },
   {
    "duration": 187,
    "start_time": "2024-10-19T16:41:28.809Z"
   },
   {
    "duration": 1011,
    "start_time": "2024-10-19T16:41:31.617Z"
   },
   {
    "duration": 80,
    "start_time": "2024-10-19T16:41:36.154Z"
   },
   {
    "duration": 85,
    "start_time": "2024-10-19T16:41:57.059Z"
   },
   {
    "duration": 338,
    "start_time": "2024-10-19T17:25:44.311Z"
   },
   {
    "duration": 104,
    "start_time": "2024-10-19T17:28:52.067Z"
   },
   {
    "duration": 9,
    "start_time": "2024-10-19T17:30:06.351Z"
   },
   {
    "duration": 410,
    "start_time": "2024-10-19T17:31:51.770Z"
   },
   {
    "duration": 115,
    "start_time": "2024-10-19T17:32:08.135Z"
   },
   {
    "duration": 10,
    "start_time": "2024-10-19T17:32:39.894Z"
   },
   {
    "duration": 10,
    "start_time": "2024-10-19T17:33:08.448Z"
   },
   {
    "duration": 5,
    "start_time": "2024-10-19T17:33:14.422Z"
   },
   {
    "duration": 2086,
    "start_time": "2024-10-19T19:08:54.861Z"
   },
   {
    "duration": 987,
    "start_time": "2024-10-19T19:08:56.949Z"
   },
   {
    "duration": 6,
    "start_time": "2024-10-19T19:08:57.938Z"
   },
   {
    "duration": 4,
    "start_time": "2024-10-19T19:08:57.946Z"
   },
   {
    "duration": 5,
    "start_time": "2024-10-19T19:08:57.952Z"
   },
   {
    "duration": 4,
    "start_time": "2024-10-19T19:08:57.959Z"
   },
   {
    "duration": 5,
    "start_time": "2024-10-19T19:08:57.965Z"
   },
   {
    "duration": 211,
    "start_time": "2024-10-19T19:08:57.971Z"
   },
   {
    "duration": 8,
    "start_time": "2024-10-19T19:08:58.184Z"
   },
   {
    "duration": 100,
    "start_time": "2024-10-19T19:08:58.206Z"
   },
   {
    "duration": 166,
    "start_time": "2024-10-19T19:08:58.308Z"
   },
   {
    "duration": 35,
    "start_time": "2024-10-19T19:08:58.476Z"
   },
   {
    "duration": 12,
    "start_time": "2024-10-19T19:08:58.545Z"
   },
   {
    "duration": 4,
    "start_time": "2024-10-19T19:08:58.717Z"
   },
   {
    "duration": 21,
    "start_time": "2024-10-19T19:08:58.885Z"
   },
   {
    "duration": 8,
    "start_time": "2024-10-19T19:08:59.069Z"
   },
   {
    "duration": 5,
    "start_time": "2024-10-19T19:08:59.620Z"
   },
   {
    "duration": 4,
    "start_time": "2024-10-19T19:08:59.779Z"
   },
   {
    "duration": 5,
    "start_time": "2024-10-19T19:09:00.293Z"
   },
   {
    "duration": 5,
    "start_time": "2024-10-19T19:09:00.467Z"
   },
   {
    "duration": 757,
    "start_time": "2024-10-19T19:09:00.993Z"
   },
   {
    "duration": 773,
    "start_time": "2024-10-19T19:09:01.752Z"
   },
   {
    "duration": 5,
    "start_time": "2024-10-19T19:09:02.528Z"
   },
   {
    "duration": 9,
    "start_time": "2024-10-19T19:09:02.535Z"
   },
   {
    "duration": 8,
    "start_time": "2024-10-19T19:09:02.736Z"
   },
   {
    "duration": 6,
    "start_time": "2024-10-19T19:09:03.102Z"
   },
   {
    "duration": 8,
    "start_time": "2024-10-19T19:09:03.460Z"
   },
   {
    "duration": 11,
    "start_time": "2024-10-19T19:09:04.015Z"
   },
   {
    "duration": 17,
    "start_time": "2024-10-19T19:09:04.207Z"
   },
   {
    "duration": 18,
    "start_time": "2024-10-19T19:09:04.797Z"
   },
   {
    "duration": 32,
    "start_time": "2024-10-19T19:09:04.989Z"
   },
   {
    "duration": 7,
    "start_time": "2024-10-19T19:09:05.374Z"
   },
   {
    "duration": 8,
    "start_time": "2024-10-19T19:09:05.557Z"
   },
   {
    "duration": 27,
    "start_time": "2024-10-19T19:09:05.989Z"
   },
   {
    "duration": 5,
    "start_time": "2024-10-19T19:09:07.192Z"
   },
   {
    "duration": 6,
    "start_time": "2024-10-19T19:09:07.407Z"
   },
   {
    "duration": 206,
    "start_time": "2024-10-19T19:09:08.015Z"
   },
   {
    "duration": 128,
    "start_time": "2024-10-19T19:09:08.608Z"
   },
   {
    "duration": 212,
    "start_time": "2024-10-19T19:09:09.198Z"
   },
   {
    "duration": 222,
    "start_time": "2024-10-19T19:09:10.046Z"
   },
   {
    "duration": 194,
    "start_time": "2024-10-19T19:09:10.270Z"
   },
   {
    "duration": 942,
    "start_time": "2024-10-19T19:09:11.303Z"
   },
   {
    "duration": 94,
    "start_time": "2024-10-19T19:09:12.247Z"
   },
   {
    "duration": 10,
    "start_time": "2024-10-19T19:09:12.379Z"
   },
   {
    "duration": 7,
    "start_time": "2024-10-19T19:09:12.629Z"
   },
   {
    "duration": 229,
    "start_time": "2024-10-19T19:10:18.635Z"
   },
   {
    "duration": 300,
    "start_time": "2024-10-19T19:10:51.463Z"
   },
   {
    "duration": 471,
    "start_time": "2024-10-19T19:19:15.523Z"
   },
   {
    "duration": 1182,
    "start_time": "2024-10-19T19:19:15.997Z"
   },
   {
    "duration": 6,
    "start_time": "2024-10-19T19:19:17.181Z"
   },
   {
    "duration": 3,
    "start_time": "2024-10-19T19:19:17.189Z"
   },
   {
    "duration": 5,
    "start_time": "2024-10-19T19:19:17.195Z"
   },
   {
    "duration": 4,
    "start_time": "2024-10-19T19:19:17.205Z"
   },
   {
    "duration": 10,
    "start_time": "2024-10-19T19:19:17.211Z"
   },
   {
    "duration": 198,
    "start_time": "2024-10-19T19:19:17.223Z"
   },
   {
    "duration": 12,
    "start_time": "2024-10-19T19:19:17.423Z"
   },
   {
    "duration": 108,
    "start_time": "2024-10-19T19:19:17.438Z"
   },
   {
    "duration": 184,
    "start_time": "2024-10-19T19:19:17.548Z"
   },
   {
    "duration": 30,
    "start_time": "2024-10-19T19:19:17.734Z"
   },
   {
    "duration": 14,
    "start_time": "2024-10-19T19:19:17.766Z"
   },
   {
    "duration": 4,
    "start_time": "2024-10-19T19:19:17.784Z"
   },
   {
    "duration": 28,
    "start_time": "2024-10-19T19:19:17.806Z"
   },
   {
    "duration": 8,
    "start_time": "2024-10-19T19:19:17.836Z"
   },
   {
    "duration": 5,
    "start_time": "2024-10-19T19:19:17.846Z"
   },
   {
    "duration": 5,
    "start_time": "2024-10-19T19:19:17.853Z"
   },
   {
    "duration": 5,
    "start_time": "2024-10-19T19:19:17.859Z"
   },
   {
    "duration": 5,
    "start_time": "2024-10-19T19:19:17.866Z"
   },
   {
    "duration": 754,
    "start_time": "2024-10-19T19:19:17.906Z"
   },
   {
    "duration": 781,
    "start_time": "2024-10-19T19:19:18.662Z"
   },
   {
    "duration": 7,
    "start_time": "2024-10-19T19:19:19.445Z"
   },
   {
    "duration": 8,
    "start_time": "2024-10-19T19:19:19.454Z"
   },
   {
    "duration": 7,
    "start_time": "2024-10-19T19:19:19.464Z"
   },
   {
    "duration": 5,
    "start_time": "2024-10-19T19:19:19.473Z"
   },
   {
    "duration": 33,
    "start_time": "2024-10-19T19:19:19.479Z"
   },
   {
    "duration": 8,
    "start_time": "2024-10-19T19:19:19.516Z"
   },
   {
    "duration": 18,
    "start_time": "2024-10-19T19:19:19.526Z"
   },
   {
    "duration": 20,
    "start_time": "2024-10-19T19:19:19.546Z"
   },
   {
    "duration": 61,
    "start_time": "2024-10-19T19:19:19.567Z"
   },
   {
    "duration": 8,
    "start_time": "2024-10-19T19:19:19.630Z"
   },
   {
    "duration": 10,
    "start_time": "2024-10-19T19:19:19.640Z"
   },
   {
    "duration": 28,
    "start_time": "2024-10-19T19:19:19.652Z"
   },
   {
    "duration": 7,
    "start_time": "2024-10-19T19:19:19.705Z"
   },
   {
    "duration": 5,
    "start_time": "2024-10-19T19:19:19.718Z"
   },
   {
    "duration": 255,
    "start_time": "2024-10-19T19:19:19.725Z"
   },
   {
    "duration": 166,
    "start_time": "2024-10-19T19:19:19.982Z"
   },
   {
    "duration": 245,
    "start_time": "2024-10-19T19:19:20.150Z"
   },
   {
    "duration": 231,
    "start_time": "2024-10-19T19:19:20.396Z"
   },
   {
    "duration": 217,
    "start_time": "2024-10-19T19:19:20.632Z"
   },
   {
    "duration": 1008,
    "start_time": "2024-10-19T19:19:20.851Z"
   },
   {
    "duration": 113,
    "start_time": "2024-10-19T19:19:21.861Z"
   },
   {
    "duration": 10,
    "start_time": "2024-10-19T19:19:21.976Z"
   },
   {
    "duration": 18,
    "start_time": "2024-10-19T19:19:21.988Z"
   },
   {
    "duration": 313,
    "start_time": "2024-10-19T19:19:22.008Z"
   },
   {
    "duration": 0,
    "start_time": "2024-10-19T19:21:08.720Z"
   },
   {
    "duration": 4298,
    "start_time": "2024-10-19T19:21:14.452Z"
   },
   {
    "duration": 172,
    "start_time": "2024-10-19T19:21:30.643Z"
   },
   {
    "duration": 205556,
    "start_time": "2024-10-19T19:23:03.822Z"
   },
   {
    "duration": 0,
    "start_time": "2024-10-19T19:26:29.384Z"
   },
   {
    "duration": 156,
    "start_time": "2024-10-19T19:27:44.726Z"
   },
   {
    "duration": 486,
    "start_time": "2024-10-19T19:27:54.117Z"
   },
   {
    "duration": 1028,
    "start_time": "2024-10-19T19:27:54.604Z"
   },
   {
    "duration": 5,
    "start_time": "2024-10-19T19:27:55.634Z"
   },
   {
    "duration": 4,
    "start_time": "2024-10-19T19:27:55.640Z"
   },
   {
    "duration": 4,
    "start_time": "2024-10-19T19:27:55.647Z"
   },
   {
    "duration": 5,
    "start_time": "2024-10-19T19:27:55.653Z"
   },
   {
    "duration": 5,
    "start_time": "2024-10-19T19:27:55.659Z"
   },
   {
    "duration": 223,
    "start_time": "2024-10-19T19:27:55.666Z"
   },
   {
    "duration": 14,
    "start_time": "2024-10-19T19:27:55.891Z"
   },
   {
    "duration": 104,
    "start_time": "2024-10-19T19:27:55.907Z"
   },
   {
    "duration": 183,
    "start_time": "2024-10-19T19:27:56.013Z"
   },
   {
    "duration": 34,
    "start_time": "2024-10-19T19:27:56.199Z"
   },
   {
    "duration": 14,
    "start_time": "2024-10-19T19:27:56.235Z"
   },
   {
    "duration": 4,
    "start_time": "2024-10-19T19:27:56.253Z"
   },
   {
    "duration": 22,
    "start_time": "2024-10-19T19:27:56.259Z"
   },
   {
    "duration": 6,
    "start_time": "2024-10-19T19:27:56.305Z"
   },
   {
    "duration": 4,
    "start_time": "2024-10-19T19:27:56.312Z"
   },
   {
    "duration": 5,
    "start_time": "2024-10-19T19:27:56.318Z"
   },
   {
    "duration": 4,
    "start_time": "2024-10-19T19:27:56.324Z"
   },
   {
    "duration": 4,
    "start_time": "2024-10-19T19:27:56.330Z"
   },
   {
    "duration": 773,
    "start_time": "2024-10-19T19:27:56.335Z"
   },
   {
    "duration": 751,
    "start_time": "2024-10-19T19:27:57.110Z"
   },
   {
    "duration": 6,
    "start_time": "2024-10-19T19:27:57.863Z"
   },
   {
    "duration": 9,
    "start_time": "2024-10-19T19:27:57.871Z"
   },
   {
    "duration": 26,
    "start_time": "2024-10-19T19:27:57.882Z"
   },
   {
    "duration": 6,
    "start_time": "2024-10-19T19:27:57.909Z"
   },
   {
    "duration": 7,
    "start_time": "2024-10-19T19:27:57.918Z"
   },
   {
    "duration": 8,
    "start_time": "2024-10-19T19:27:57.926Z"
   },
   {
    "duration": 16,
    "start_time": "2024-10-19T19:27:57.936Z"
   },
   {
    "duration": 18,
    "start_time": "2024-10-19T19:27:57.955Z"
   },
   {
    "duration": 62,
    "start_time": "2024-10-19T19:27:57.974Z"
   },
   {
    "duration": 7,
    "start_time": "2024-10-19T19:27:58.038Z"
   },
   {
    "duration": 7,
    "start_time": "2024-10-19T19:27:58.047Z"
   },
   {
    "duration": 57,
    "start_time": "2024-10-19T19:27:58.056Z"
   },
   {
    "duration": 6,
    "start_time": "2024-10-19T19:27:58.115Z"
   },
   {
    "duration": 5,
    "start_time": "2024-10-19T19:27:58.123Z"
   },
   {
    "duration": 226,
    "start_time": "2024-10-19T19:27:58.130Z"
   },
   {
    "duration": 134,
    "start_time": "2024-10-19T19:27:58.358Z"
   },
   {
    "duration": 221,
    "start_time": "2024-10-19T19:27:58.494Z"
   },
   {
    "duration": 194,
    "start_time": "2024-10-19T19:27:58.717Z"
   },
   {
    "duration": 191,
    "start_time": "2024-10-19T19:27:58.915Z"
   },
   {
    "duration": 997,
    "start_time": "2024-10-19T19:27:59.108Z"
   },
   {
    "duration": 85,
    "start_time": "2024-10-19T19:28:00.107Z"
   },
   {
    "duration": 20,
    "start_time": "2024-10-19T19:28:00.193Z"
   },
   {
    "duration": 5,
    "start_time": "2024-10-19T19:28:00.215Z"
   },
   {
    "duration": 464,
    "start_time": "2024-10-19T19:31:49.512Z"
   },
   {
    "duration": 1050,
    "start_time": "2024-10-19T19:31:49.978Z"
   },
   {
    "duration": 6,
    "start_time": "2024-10-19T19:31:51.029Z"
   },
   {
    "duration": 3,
    "start_time": "2024-10-19T19:31:51.037Z"
   },
   {
    "duration": 5,
    "start_time": "2024-10-19T19:31:51.042Z"
   },
   {
    "duration": 4,
    "start_time": "2024-10-19T19:31:51.048Z"
   },
   {
    "duration": 5,
    "start_time": "2024-10-19T19:31:51.053Z"
   },
   {
    "duration": 220,
    "start_time": "2024-10-19T19:31:51.059Z"
   },
   {
    "duration": 8,
    "start_time": "2024-10-19T19:31:51.281Z"
   },
   {
    "duration": 102,
    "start_time": "2024-10-19T19:31:51.306Z"
   },
   {
    "duration": 175,
    "start_time": "2024-10-19T19:31:51.411Z"
   },
   {
    "duration": 39,
    "start_time": "2024-10-19T19:31:51.588Z"
   },
   {
    "duration": 13,
    "start_time": "2024-10-19T19:31:51.628Z"
   },
   {
    "duration": 4,
    "start_time": "2024-10-19T19:31:51.643Z"
   },
   {
    "duration": 22,
    "start_time": "2024-10-19T19:31:51.649Z"
   },
   {
    "duration": 6,
    "start_time": "2024-10-19T19:31:51.673Z"
   },
   {
    "duration": 5,
    "start_time": "2024-10-19T19:31:51.705Z"
   },
   {
    "duration": 4,
    "start_time": "2024-10-19T19:31:51.712Z"
   },
   {
    "duration": 5,
    "start_time": "2024-10-19T19:31:51.717Z"
   },
   {
    "duration": 4,
    "start_time": "2024-10-19T19:31:51.723Z"
   },
   {
    "duration": 792,
    "start_time": "2024-10-19T19:31:51.728Z"
   },
   {
    "duration": 781,
    "start_time": "2024-10-19T19:31:52.521Z"
   },
   {
    "duration": 6,
    "start_time": "2024-10-19T19:31:53.303Z"
   },
   {
    "duration": 8,
    "start_time": "2024-10-19T19:31:53.311Z"
   },
   {
    "duration": 8,
    "start_time": "2024-10-19T19:31:53.321Z"
   },
   {
    "duration": 6,
    "start_time": "2024-10-19T19:31:53.331Z"
   },
   {
    "duration": 7,
    "start_time": "2024-10-19T19:31:53.338Z"
   },
   {
    "duration": 8,
    "start_time": "2024-10-19T19:31:53.349Z"
   },
   {
    "duration": 52,
    "start_time": "2024-10-19T19:31:53.358Z"
   },
   {
    "duration": 21,
    "start_time": "2024-10-19T19:31:53.412Z"
   },
   {
    "duration": 31,
    "start_time": "2024-10-19T19:31:53.434Z"
   },
   {
    "duration": 7,
    "start_time": "2024-10-19T19:31:53.467Z"
   },
   {
    "duration": 33,
    "start_time": "2024-10-19T19:31:53.476Z"
   },
   {
    "duration": 32,
    "start_time": "2024-10-19T19:31:53.511Z"
   },
   {
    "duration": 4,
    "start_time": "2024-10-19T19:31:53.545Z"
   },
   {
    "duration": 4,
    "start_time": "2024-10-19T19:31:53.551Z"
   },
   {
    "duration": 229,
    "start_time": "2024-10-19T19:31:53.557Z"
   },
   {
    "duration": 134,
    "start_time": "2024-10-19T19:31:53.788Z"
   },
   {
    "duration": 225,
    "start_time": "2024-10-19T19:31:53.924Z"
   },
   {
    "duration": 192,
    "start_time": "2024-10-19T19:31:54.151Z"
   },
   {
    "duration": 189,
    "start_time": "2024-10-19T19:31:54.346Z"
   },
   {
    "duration": 948,
    "start_time": "2024-10-19T19:31:54.536Z"
   },
   {
    "duration": 95,
    "start_time": "2024-10-19T19:31:55.486Z"
   },
   {
    "duration": 11,
    "start_time": "2024-10-19T19:31:55.583Z"
   },
   {
    "duration": 12,
    "start_time": "2024-10-19T19:31:55.596Z"
   },
   {
    "duration": 255,
    "start_time": "2024-10-19T19:31:55.610Z"
   },
   {
    "duration": 255,
    "start_time": "2024-10-19T19:31:55.867Z"
   },
   {
    "duration": 154,
    "start_time": "2024-10-19T19:32:09.512Z"
   },
   {
    "duration": 139,
    "start_time": "2024-10-19T19:32:25.346Z"
   },
   {
    "duration": 685,
    "start_time": "2024-10-19T19:33:42.936Z"
   },
   {
    "duration": 205,
    "start_time": "2024-10-19T19:34:47.954Z"
   },
   {
    "duration": 738,
    "start_time": "2024-10-19T20:01:09.984Z"
   },
   {
    "duration": 682,
    "start_time": "2024-10-19T20:03:27.881Z"
   },
   {
    "duration": 106,
    "start_time": "2024-10-19T20:03:43.222Z"
   },
   {
    "duration": 110,
    "start_time": "2024-10-19T20:04:35.100Z"
   },
   {
    "duration": 3,
    "start_time": "2024-10-19T20:05:18.336Z"
   },
   {
    "duration": 288,
    "start_time": "2024-10-19T20:05:28.110Z"
   },
   {
    "duration": 26,
    "start_time": "2024-10-19T20:07:56.536Z"
   },
   {
    "duration": 110,
    "start_time": "2024-10-19T20:09:32.738Z"
   },
   {
    "duration": 6,
    "start_time": "2024-10-19T20:11:10.276Z"
   },
   {
    "duration": 97,
    "start_time": "2024-10-19T20:11:21.246Z"
   },
   {
    "duration": 25,
    "start_time": "2024-10-19T20:15:22.572Z"
   },
   {
    "duration": 10,
    "start_time": "2024-10-19T20:16:31.493Z"
   },
   {
    "duration": 10,
    "start_time": "2024-10-19T20:16:54.245Z"
   },
   {
    "duration": 410,
    "start_time": "2024-10-19T20:19:25.090Z"
   },
   {
    "duration": 12,
    "start_time": "2024-10-19T20:19:59.447Z"
   },
   {
    "duration": 2270,
    "start_time": "2024-10-21T20:49:47.579Z"
   },
   {
    "duration": 1062,
    "start_time": "2024-10-21T20:49:49.851Z"
   },
   {
    "duration": 6,
    "start_time": "2024-10-21T20:49:50.915Z"
   },
   {
    "duration": 4,
    "start_time": "2024-10-21T20:49:50.923Z"
   },
   {
    "duration": 4,
    "start_time": "2024-10-21T20:49:50.930Z"
   },
   {
    "duration": 8,
    "start_time": "2024-10-21T20:49:50.936Z"
   },
   {
    "duration": 5,
    "start_time": "2024-10-21T20:49:50.946Z"
   },
   {
    "duration": 220,
    "start_time": "2024-10-21T20:49:50.955Z"
   },
   {
    "duration": 8,
    "start_time": "2024-10-21T20:49:51.177Z"
   },
   {
    "duration": 126,
    "start_time": "2024-10-21T20:49:51.187Z"
   },
   {
    "duration": 195,
    "start_time": "2024-10-21T20:49:51.314Z"
   },
   {
    "duration": 40,
    "start_time": "2024-10-21T20:49:51.510Z"
   },
   {
    "duration": 14,
    "start_time": "2024-10-21T20:49:51.552Z"
   },
   {
    "duration": 5,
    "start_time": "2024-10-21T20:49:51.570Z"
   },
   {
    "duration": 22,
    "start_time": "2024-10-21T20:49:51.576Z"
   },
   {
    "duration": 8,
    "start_time": "2024-10-21T20:49:51.600Z"
   },
   {
    "duration": 36,
    "start_time": "2024-10-21T20:49:51.610Z"
   },
   {
    "duration": 5,
    "start_time": "2024-10-21T20:49:51.648Z"
   },
   {
    "duration": 5,
    "start_time": "2024-10-21T20:49:51.655Z"
   },
   {
    "duration": 5,
    "start_time": "2024-10-21T20:49:51.662Z"
   },
   {
    "duration": 824,
    "start_time": "2024-10-21T20:49:51.671Z"
   },
   {
    "duration": 810,
    "start_time": "2024-10-21T20:49:52.497Z"
   },
   {
    "duration": 7,
    "start_time": "2024-10-21T20:49:53.308Z"
   },
   {
    "duration": 9,
    "start_time": "2024-10-21T20:49:53.317Z"
   },
   {
    "duration": 8,
    "start_time": "2024-10-21T20:49:53.342Z"
   },
   {
    "duration": 5,
    "start_time": "2024-10-21T20:49:53.352Z"
   },
   {
    "duration": 8,
    "start_time": "2024-10-21T20:49:53.359Z"
   },
   {
    "duration": 9,
    "start_time": "2024-10-21T20:49:53.369Z"
   },
   {
    "duration": 18,
    "start_time": "2024-10-21T20:49:53.380Z"
   },
   {
    "duration": 55,
    "start_time": "2024-10-21T20:49:53.400Z"
   },
   {
    "duration": 33,
    "start_time": "2024-10-21T20:49:53.457Z"
   },
   {
    "duration": 7,
    "start_time": "2024-10-21T20:49:53.492Z"
   },
   {
    "duration": 9,
    "start_time": "2024-10-21T20:49:53.501Z"
   },
   {
    "duration": 57,
    "start_time": "2024-10-21T20:49:53.512Z"
   },
   {
    "duration": 6,
    "start_time": "2024-10-21T20:49:53.571Z"
   },
   {
    "duration": 6,
    "start_time": "2024-10-21T20:49:53.581Z"
   },
   {
    "duration": 242,
    "start_time": "2024-10-21T20:49:53.590Z"
   },
   {
    "duration": 177,
    "start_time": "2024-10-21T20:49:53.834Z"
   },
   {
    "duration": 224,
    "start_time": "2024-10-21T20:49:54.012Z"
   },
   {
    "duration": 201,
    "start_time": "2024-10-21T20:49:54.243Z"
   },
   {
    "duration": 196,
    "start_time": "2024-10-21T20:49:54.449Z"
   },
   {
    "duration": 1013,
    "start_time": "2024-10-21T20:49:54.647Z"
   },
   {
    "duration": 81,
    "start_time": "2024-10-21T20:49:55.662Z"
   },
   {
    "duration": 15,
    "start_time": "2024-10-21T20:49:55.744Z"
   },
   {
    "duration": 7,
    "start_time": "2024-10-21T20:49:55.761Z"
   },
   {
    "duration": 325,
    "start_time": "2024-10-21T20:49:55.770Z"
   },
   {
    "duration": 149,
    "start_time": "2024-10-21T20:49:56.097Z"
   },
   {
    "duration": 109,
    "start_time": "2024-10-21T20:49:56.248Z"
   },
   {
    "duration": 12,
    "start_time": "2024-10-21T20:49:56.359Z"
   },
   {
    "duration": 184,
    "start_time": "2024-10-21T21:05:01.026Z"
   },
   {
    "duration": 13,
    "start_time": "2024-10-21T21:05:04.516Z"
   },
   {
    "duration": 7,
    "start_time": "2024-10-21T21:05:06.825Z"
   },
   {
    "duration": 222,
    "start_time": "2024-10-21T21:06:51.690Z"
   },
   {
    "duration": 14,
    "start_time": "2024-10-21T21:06:53.538Z"
   },
   {
    "duration": 8,
    "start_time": "2024-10-21T21:06:55.835Z"
   },
   {
    "duration": 564,
    "start_time": "2024-10-21T21:09:26.600Z"
   },
   {
    "duration": 10075,
    "start_time": "2024-10-21T21:14:55.475Z"
   },
   {
    "duration": 2155,
    "start_time": "2024-10-21T23:45:18.481Z"
   },
   {
    "duration": 971,
    "start_time": "2024-10-21T23:45:20.639Z"
   },
   {
    "duration": 6,
    "start_time": "2024-10-21T23:45:21.612Z"
   },
   {
    "duration": 4,
    "start_time": "2024-10-21T23:45:21.620Z"
   },
   {
    "duration": 5,
    "start_time": "2024-10-21T23:45:21.625Z"
   },
   {
    "duration": 5,
    "start_time": "2024-10-21T23:45:21.631Z"
   },
   {
    "duration": 4,
    "start_time": "2024-10-21T23:45:21.638Z"
   },
   {
    "duration": 225,
    "start_time": "2024-10-21T23:45:21.644Z"
   },
   {
    "duration": 9,
    "start_time": "2024-10-21T23:45:21.871Z"
   },
   {
    "duration": 118,
    "start_time": "2024-10-21T23:45:21.883Z"
   },
   {
    "duration": 173,
    "start_time": "2024-10-21T23:45:22.008Z"
   },
   {
    "duration": 37,
    "start_time": "2024-10-21T23:45:22.183Z"
   },
   {
    "duration": 14,
    "start_time": "2024-10-21T23:45:22.222Z"
   },
   {
    "duration": 4,
    "start_time": "2024-10-21T23:45:22.238Z"
   },
   {
    "duration": 24,
    "start_time": "2024-10-21T23:45:22.244Z"
   },
   {
    "duration": 8,
    "start_time": "2024-10-21T23:45:22.269Z"
   },
   {
    "duration": 34,
    "start_time": "2024-10-21T23:45:22.278Z"
   },
   {
    "duration": 4,
    "start_time": "2024-10-21T23:45:22.313Z"
   },
   {
    "duration": 5,
    "start_time": "2024-10-21T23:45:22.319Z"
   },
   {
    "duration": 5,
    "start_time": "2024-10-21T23:45:22.325Z"
   },
   {
    "duration": 824,
    "start_time": "2024-10-21T23:45:22.331Z"
   },
   {
    "duration": 807,
    "start_time": "2024-10-21T23:45:23.156Z"
   },
   {
    "duration": 6,
    "start_time": "2024-10-21T23:45:23.965Z"
   },
   {
    "duration": 9,
    "start_time": "2024-10-21T23:45:23.973Z"
   },
   {
    "duration": 30,
    "start_time": "2024-10-21T23:45:23.984Z"
   },
   {
    "duration": 7,
    "start_time": "2024-10-21T23:45:24.015Z"
   },
   {
    "duration": 8,
    "start_time": "2024-10-21T23:45:24.025Z"
   },
   {
    "duration": 9,
    "start_time": "2024-10-21T23:45:24.038Z"
   },
   {
    "duration": 19,
    "start_time": "2024-10-21T23:45:24.048Z"
   },
   {
    "duration": 53,
    "start_time": "2024-10-21T23:45:24.068Z"
   },
   {
    "duration": 32,
    "start_time": "2024-10-21T23:45:24.123Z"
   },
   {
    "duration": 7,
    "start_time": "2024-10-21T23:45:24.157Z"
   },
   {
    "duration": 11,
    "start_time": "2024-10-21T23:45:24.166Z"
   },
   {
    "duration": 57,
    "start_time": "2024-10-21T23:45:24.179Z"
   },
   {
    "duration": 5,
    "start_time": "2024-10-21T23:45:24.238Z"
   },
   {
    "duration": 5,
    "start_time": "2024-10-21T23:45:24.245Z"
   },
   {
    "duration": 241,
    "start_time": "2024-10-21T23:45:24.251Z"
   },
   {
    "duration": 178,
    "start_time": "2024-10-21T23:45:24.495Z"
   },
   {
    "duration": 226,
    "start_time": "2024-10-21T23:45:24.675Z"
   },
   {
    "duration": 192,
    "start_time": "2024-10-21T23:45:24.909Z"
   },
   {
    "duration": 201,
    "start_time": "2024-10-21T23:45:25.103Z"
   },
   {
    "duration": 956,
    "start_time": "2024-10-21T23:45:25.307Z"
   },
   {
    "duration": 111,
    "start_time": "2024-10-21T23:45:26.265Z"
   },
   {
    "duration": 10,
    "start_time": "2024-10-21T23:45:26.377Z"
   },
   {
    "duration": 5,
    "start_time": "2024-10-21T23:45:26.389Z"
   },
   {
    "duration": 287,
    "start_time": "2024-10-21T23:45:26.409Z"
   },
   {
    "duration": 159,
    "start_time": "2024-10-21T23:45:26.698Z"
   },
   {
    "duration": 116,
    "start_time": "2024-10-21T23:45:26.859Z"
   },
   {
    "duration": 12,
    "start_time": "2024-10-21T23:45:26.977Z"
   },
   {
    "duration": 220,
    "start_time": "2024-10-21T23:45:26.991Z"
   },
   {
    "duration": 13,
    "start_time": "2024-10-21T23:45:27.215Z"
   },
   {
    "duration": 7,
    "start_time": "2024-10-21T23:45:27.230Z"
   },
   {
    "duration": 573,
    "start_time": "2024-10-21T23:45:27.238Z"
   },
   {
    "duration": 0,
    "start_time": "2024-10-21T23:45:27.813Z"
   },
   {
    "duration": 10325,
    "start_time": "2024-10-21T23:53:38.037Z"
   },
   {
    "duration": 857,
    "start_time": "2024-10-22T00:07:42.709Z"
   },
   {
    "duration": 97,
    "start_time": "2024-10-22T00:21:54.290Z"
   },
   {
    "duration": 43,
    "start_time": "2024-10-22T00:22:08.342Z"
   },
   {
    "duration": 2127,
    "start_time": "2024-10-22T03:49:07.398Z"
   },
   {
    "duration": 997,
    "start_time": "2024-10-22T03:49:09.527Z"
   },
   {
    "duration": 5,
    "start_time": "2024-10-22T03:49:10.525Z"
   },
   {
    "duration": 4,
    "start_time": "2024-10-22T03:49:10.532Z"
   },
   {
    "duration": 4,
    "start_time": "2024-10-22T03:49:10.539Z"
   },
   {
    "duration": 5,
    "start_time": "2024-10-22T03:49:10.544Z"
   },
   {
    "duration": 5,
    "start_time": "2024-10-22T03:49:10.550Z"
   },
   {
    "duration": 226,
    "start_time": "2024-10-22T03:49:10.556Z"
   },
   {
    "duration": 9,
    "start_time": "2024-10-22T03:49:10.785Z"
   },
   {
    "duration": 120,
    "start_time": "2024-10-22T03:49:10.796Z"
   },
   {
    "duration": 174,
    "start_time": "2024-10-22T03:49:10.917Z"
   },
   {
    "duration": 32,
    "start_time": "2024-10-22T03:49:11.093Z"
   },
   {
    "duration": 13,
    "start_time": "2024-10-22T03:49:11.127Z"
   },
   {
    "duration": 4,
    "start_time": "2024-10-22T03:49:11.144Z"
   },
   {
    "duration": 21,
    "start_time": "2024-10-22T03:49:11.149Z"
   },
   {
    "duration": 11,
    "start_time": "2024-10-22T03:49:11.171Z"
   },
   {
    "duration": 5,
    "start_time": "2024-10-22T03:49:11.184Z"
   },
   {
    "duration": 37,
    "start_time": "2024-10-22T03:49:11.190Z"
   },
   {
    "duration": 3,
    "start_time": "2024-10-22T03:49:11.231Z"
   },
   {
    "duration": 4,
    "start_time": "2024-10-22T03:49:11.236Z"
   },
   {
    "duration": 741,
    "start_time": "2024-10-22T03:49:11.242Z"
   },
   {
    "duration": 753,
    "start_time": "2024-10-22T03:49:11.984Z"
   },
   {
    "duration": 6,
    "start_time": "2024-10-22T03:49:12.738Z"
   },
   {
    "duration": 8,
    "start_time": "2024-10-22T03:49:12.745Z"
   },
   {
    "duration": 7,
    "start_time": "2024-10-22T03:49:12.755Z"
   },
   {
    "duration": 6,
    "start_time": "2024-10-22T03:49:12.763Z"
   },
   {
    "duration": 7,
    "start_time": "2024-10-22T03:49:12.771Z"
   },
   {
    "duration": 44,
    "start_time": "2024-10-22T03:49:12.780Z"
   },
   {
    "duration": 15,
    "start_time": "2024-10-22T03:49:12.826Z"
   },
   {
    "duration": 21,
    "start_time": "2024-10-22T03:49:12.842Z"
   },
   {
    "duration": 31,
    "start_time": "2024-10-22T03:49:12.864Z"
   },
   {
    "duration": 33,
    "start_time": "2024-10-22T03:49:12.897Z"
   },
   {
    "duration": 8,
    "start_time": "2024-10-22T03:49:12.932Z"
   },
   {
    "duration": 29,
    "start_time": "2024-10-22T03:49:12.942Z"
   },
   {
    "duration": 5,
    "start_time": "2024-10-22T03:49:12.972Z"
   },
   {
    "duration": 4,
    "start_time": "2024-10-22T03:49:12.979Z"
   },
   {
    "duration": 233,
    "start_time": "2024-10-22T03:49:12.985Z"
   },
   {
    "duration": 139,
    "start_time": "2024-10-22T03:49:13.219Z"
   },
   {
    "duration": 246,
    "start_time": "2024-10-22T03:49:13.360Z"
   },
   {
    "duration": 195,
    "start_time": "2024-10-22T03:49:13.608Z"
   },
   {
    "duration": 203,
    "start_time": "2024-10-22T03:49:13.808Z"
   },
   {
    "duration": 929,
    "start_time": "2024-10-22T03:49:14.014Z"
   },
   {
    "duration": 91,
    "start_time": "2024-10-22T03:49:14.945Z"
   },
   {
    "duration": 11,
    "start_time": "2024-10-22T03:49:15.038Z"
   },
   {
    "duration": 5,
    "start_time": "2024-10-22T03:49:15.052Z"
   },
   {
    "duration": 266,
    "start_time": "2024-10-22T03:49:15.059Z"
   },
   {
    "duration": 143,
    "start_time": "2024-10-22T03:49:15.327Z"
   },
   {
    "duration": 121,
    "start_time": "2024-10-22T03:49:15.472Z"
   },
   {
    "duration": 12,
    "start_time": "2024-10-22T03:49:15.594Z"
   },
   {
    "duration": 207,
    "start_time": "2024-10-22T03:49:15.607Z"
   },
   {
    "duration": 17,
    "start_time": "2024-10-22T03:49:15.817Z"
   },
   {
    "duration": 7,
    "start_time": "2024-10-22T03:49:15.836Z"
   },
   {
    "duration": 844,
    "start_time": "2024-10-22T03:49:15.844Z"
   },
   {
    "duration": 95,
    "start_time": "2024-10-22T03:49:16.690Z"
   },
   {
    "duration": 6,
    "start_time": "2024-10-22T03:59:28.128Z"
   }
  ],
  "colab": {
   "provenance": []
  },
  "kernelspec": {
   "display_name": "Python 3",
   "language": "python",
   "name": "python3"
  },
  "language_info": {
   "codemirror_mode": {
    "name": "ipython",
    "version": 3
   },
   "file_extension": ".py",
   "mimetype": "text/x-python",
   "name": "python",
   "nbconvert_exporter": "python",
   "pygments_lexer": "ipython3",
   "version": "3.13.1"
  },
  "toc": {
   "base_numbering": 1,
   "nav_menu": {},
   "number_sections": true,
   "sideBar": true,
   "skip_h1_title": true,
   "title_cell": "Table of Contents",
   "title_sidebar": "Contents",
   "toc_cell": false,
   "toc_position": {},
   "toc_section_display": true,
   "toc_window_display": false
  }
 },
 "nbformat": 4,
 "nbformat_minor": 5
}
